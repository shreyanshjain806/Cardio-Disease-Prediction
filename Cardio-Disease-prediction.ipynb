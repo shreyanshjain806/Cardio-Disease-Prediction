{
  "nbformat": 4,
  "nbformat_minor": 0,
  "metadata": {
    "colab": {
      "name": "jcompEDAheartynb",
      "provenance": [],
      "collapsed_sections": []
    },
    "kernelspec": {
      "name": "ir",
      "display_name": "R"
    },
    "language_info": {
      "name": "R"
    }
  },
  "cells": [
    {
      "cell_type": "markdown",
      "metadata": {
        "id": "ptJGISA4_tNh"
      },
      "source": [
        "\n",
        "# Installing Packages & Attaching Library"
      ]
    },
    {
      "cell_type": "code",
      "metadata": {
        "id": "gJg2kYoW_mOV",
        "colab": {
          "base_uri": "https://localhost:8080/"
        },
        "outputId": "bef64276-7c29-433e-e2d5-4c19a33c8263"
      },
      "source": [
        "library(tidyverse)\n"
      ],
      "execution_count": null,
      "outputs": [
        {
          "output_type": "stream",
          "name": "stderr",
          "text": [
            "Warning message in system(\"timedatectl\", intern = TRUE):\n",
            "“running command 'timedatectl' had status 1”\n",
            "── \u001b[1mAttaching packages\u001b[22m ─────────────────────────────────────── tidyverse 1.3.1 ──\n",
            "\n",
            "\u001b[32m✔\u001b[39m \u001b[34mggplot2\u001b[39m 3.3.5     \u001b[32m✔\u001b[39m \u001b[34mpurrr  \u001b[39m 0.3.4\n",
            "\u001b[32m✔\u001b[39m \u001b[34mtibble \u001b[39m 3.1.6     \u001b[32m✔\u001b[39m \u001b[34mdplyr  \u001b[39m 1.0.8\n",
            "\u001b[32m✔\u001b[39m \u001b[34mtidyr  \u001b[39m 1.2.0     \u001b[32m✔\u001b[39m \u001b[34mstringr\u001b[39m 1.4.0\n",
            "\u001b[32m✔\u001b[39m \u001b[34mreadr  \u001b[39m 2.1.2     \u001b[32m✔\u001b[39m \u001b[34mforcats\u001b[39m 0.5.1\n",
            "\n",
            "── \u001b[1mConflicts\u001b[22m ────────────────────────────────────────── tidyverse_conflicts() ──\n",
            "\u001b[31m✖\u001b[39m \u001b[34mdplyr\u001b[39m::\u001b[32mfilter()\u001b[39m masks \u001b[34mstats\u001b[39m::filter()\n",
            "\u001b[31m✖\u001b[39m \u001b[34mdplyr\u001b[39m::\u001b[32mlag()\u001b[39m    masks \u001b[34mstats\u001b[39m::lag()\n",
            "\n"
          ]
        }
      ]
    },
    {
      "cell_type": "code",
      "metadata": {
        "colab": {
          "base_uri": "https://localhost:8080/"
        },
        "id": "VV0JU5mwAnei",
        "outputId": "b9b3c066-d656-46ee-a97f-d0e173eb2e22"
      },
      "source": [
        "install.packages(\"gtools\", repos=\"https://cran.rstudio.com/\")\n",
        "install.packages(\"gmodels\", repos=\"https://cran.rstudio.com/\")\n",
        "\n"
      ],
      "execution_count": null,
      "outputs": [
        {
          "output_type": "stream",
          "name": "stderr",
          "text": [
            "Installing package into ‘/usr/local/lib/R/site-library’\n",
            "(as ‘lib’ is unspecified)\n",
            "\n",
            "Installing package into ‘/usr/local/lib/R/site-library’\n",
            "(as ‘lib’ is unspecified)\n",
            "\n",
            "also installing the dependency ‘gdata’\n",
            "\n",
            "\n"
          ]
        }
      ]
    },
    {
      "cell_type": "code",
      "metadata": {
        "colab": {
          "base_uri": "https://localhost:8080/"
        },
        "id": "idrwPEHJfNbj",
        "outputId": "1d780911-f2f3-4098-ce1f-559bc204201e"
      },
      "source": [
        "install.packages(\"caret\", repos=\"https://cran.rstudio.com/\")"
      ],
      "execution_count": null,
      "outputs": [
        {
          "output_type": "stream",
          "name": "stderr",
          "text": [
            "Installing package into ‘/usr/local/lib/R/site-library’\n",
            "(as ‘lib’ is unspecified)\n",
            "\n",
            "also installing the dependencies ‘listenv’, ‘parallelly’, ‘future’, ‘globals’, ‘future.apply’, ‘progressr’, ‘numDeriv’, ‘SQUAREM’, ‘lava’, ‘prodlim’, ‘proxy’, ‘iterators’, ‘Rcpp’, ‘gower’, ‘hardhat’, ‘ipred’, ‘timeDate’, ‘e1071’, ‘foreach’, ‘ModelMetrics’, ‘plyr’, ‘pROC’, ‘recipes’, ‘reshape2’\n",
            "\n",
            "\n"
          ]
        }
      ]
    },
    {
      "cell_type": "code",
      "metadata": {
        "colab": {
          "base_uri": "https://localhost:8080/"
        },
        "id": "JOwpswVuCiL7",
        "outputId": "39fd81be-7daf-4389-d58a-0e59a15d09b0"
      },
      "source": [
        "install.packages(\"rmdformats\", repos=\"https://cran.rstudio.com/\")"
      ],
      "execution_count": null,
      "outputs": [
        {
          "output_type": "stream",
          "name": "stderr",
          "text": [
            "Installing package into ‘/usr/local/lib/R/site-library’\n",
            "(as ‘lib’ is unspecified)\n",
            "\n",
            "also installing the dependency ‘bookdown’\n",
            "\n",
            "\n"
          ]
        }
      ]
    },
    {
      "cell_type": "code",
      "metadata": {
        "id": "5GFEepE8AC-B",
        "colab": {
          "base_uri": "https://localhost:8080/"
        },
        "outputId": "67a297fc-e634-4cd7-9dd1-4b89146a347e"
      },
      "source": [
        "library(dplyr)\n",
        "library(gtools)\n",
        "library(gmodels)\n",
        "library(ggplot2)\n",
        "library(class)\n",
        "library(tidyr)\n",
        "library(lattice)\n",
        "library(rmdformats)\n",
        "library(caret)\n"
      ],
      "execution_count": null,
      "outputs": [
        {
          "output_type": "stream",
          "name": "stderr",
          "text": [
            "\n",
            "Attaching package: ‘caret’\n",
            "\n",
            "\n",
            "The following object is masked from ‘package:purrr’:\n",
            "\n",
            "    lift\n",
            "\n",
            "\n"
          ]
        }
      ]
    },
    {
      "cell_type": "markdown",
      "metadata": {
        "id": "sRUdqfnaC-mt"
      },
      "source": [
        "# Explore Dataset\n",
        "\n"
      ]
    },
    {
      "cell_type": "code",
      "metadata": {
        "id": "Jx390aJDC9_5",
        "colab": {
          "base_uri": "https://localhost:8080/",
          "height": 34
        },
        "outputId": "2dcdbaa7-1bb4-4a2d-84f2-61ee87e320c6"
      },
      "source": [
        "#Data Import\n",
        "heart <- read.csv(\"heart.csv\")\n",
        "dim(heart)"
      ],
      "execution_count": null,
      "outputs": [
        {
          "output_type": "display_data",
          "data": {
            "text/html": [
              "<style>\n",
              ".list-inline {list-style: none; margin:0; padding: 0}\n",
              ".list-inline>li {display: inline-block}\n",
              ".list-inline>li:not(:last-child)::after {content: \"\\00b7\"; padding: 0 .5ex}\n",
              "</style>\n",
              "<ol class=list-inline><li>303</li><li>14</li></ol>\n"
            ],
            "text/markdown": "1. 303\n2. 14\n\n\n",
            "text/latex": "\\begin{enumerate*}\n\\item 303\n\\item 14\n\\end{enumerate*}\n",
            "text/plain": [
              "[1] 303  14"
            ]
          },
          "metadata": {}
        }
      ]
    },
    {
      "cell_type": "code",
      "metadata": {
        "colab": {
          "base_uri": "https://localhost:8080/"
        },
        "id": "A4BX2oTPDPWg",
        "outputId": "78459be0-0dd8-44de-89ff-6d26483869ee"
      },
      "source": [
        "# Overview of Data\n",
        "glimpse(heart)"
      ],
      "execution_count": null,
      "outputs": [
        {
          "output_type": "stream",
          "name": "stdout",
          "text": [
            "Rows: 303\n",
            "Columns: 14\n",
            "$ age      \u001b[3m\u001b[90m<int>\u001b[39m\u001b[23m 63, 37, 41, 56, 57, 57, 56, 44, 52, 57, 54, 48, 49, 64, 58, 5…\n",
            "$ sex      \u001b[3m\u001b[90m<int>\u001b[39m\u001b[23m 1, 1, 0, 1, 0, 1, 0, 1, 1, 1, 1, 0, 1, 1, 0, 0, 0, 0, 1, 0, 1…\n",
            "$ cp       \u001b[3m\u001b[90m<int>\u001b[39m\u001b[23m 3, 2, 1, 1, 0, 0, 1, 1, 2, 2, 0, 2, 1, 3, 3, 2, 2, 3, 0, 3, 0…\n",
            "$ trestbps \u001b[3m\u001b[90m<int>\u001b[39m\u001b[23m 145, 130, 130, 120, 120, 140, 140, 120, 172, 150, 140, 130, 1…\n",
            "$ chol     \u001b[3m\u001b[90m<int>\u001b[39m\u001b[23m 233, 250, 204, 236, 354, 192, 294, 263, 199, 168, 239, 275, 2…\n",
            "$ fbs      \u001b[3m\u001b[90m<int>\u001b[39m\u001b[23m 1, 0, 0, 0, 0, 0, 0, 0, 1, 0, 0, 0, 0, 0, 1, 0, 0, 0, 0, 0, 0…\n",
            "$ restecg  \u001b[3m\u001b[90m<int>\u001b[39m\u001b[23m 0, 1, 0, 1, 1, 1, 0, 1, 1, 1, 1, 1, 1, 0, 0, 1, 1, 1, 1, 1, 1…\n",
            "$ thalach  \u001b[3m\u001b[90m<int>\u001b[39m\u001b[23m 150, 187, 172, 178, 163, 148, 153, 173, 162, 174, 160, 139, 1…\n",
            "$ exang    \u001b[3m\u001b[90m<int>\u001b[39m\u001b[23m 0, 0, 0, 0, 1, 0, 0, 0, 0, 0, 0, 0, 0, 1, 0, 0, 0, 0, 0, 0, 0…\n",
            "$ oldpeak  \u001b[3m\u001b[90m<dbl>\u001b[39m\u001b[23m 2.3, 3.5, 1.4, 0.8, 0.6, 0.4, 1.3, 0.0, 0.5, 1.6, 1.2, 0.2, 0…\n",
            "$ slope    \u001b[3m\u001b[90m<int>\u001b[39m\u001b[23m 0, 0, 2, 2, 2, 1, 1, 2, 2, 2, 2, 2, 2, 1, 2, 1, 2, 0, 2, 2, 1…\n",
            "$ ca       \u001b[3m\u001b[90m<int>\u001b[39m\u001b[23m 0, 0, 0, 0, 0, 0, 0, 0, 0, 0, 0, 0, 0, 0, 0, 0, 0, 0, 0, 2, 0…\n",
            "$ thal     \u001b[3m\u001b[90m<int>\u001b[39m\u001b[23m 1, 2, 2, 2, 2, 1, 2, 3, 3, 2, 2, 2, 2, 2, 2, 2, 2, 2, 2, 2, 3…\n",
            "$ target   \u001b[3m\u001b[90m<int>\u001b[39m\u001b[23m 1, 1, 1, 1, 1, 1, 1, 1, 1, 1, 1, 1, 1, 1, 1, 1, 1, 1, 1, 1, 1…\n"
          ]
        }
      ]
    },
    {
      "cell_type": "code",
      "metadata": {
        "colab": {
          "base_uri": "https://localhost:8080/",
          "height": 192
        },
        "id": "dFk7Tb8hDTA8",
        "outputId": "a12ba2df-1788-4cf0-f514-96da3cbfcdd2"
      },
      "source": [
        "head(heart, 3)"
      ],
      "execution_count": null,
      "outputs": [
        {
          "output_type": "display_data",
          "data": {
            "text/html": [
              "<table class=\"dataframe\">\n",
              "<caption>A data.frame: 3 × 14</caption>\n",
              "<thead>\n",
              "\t<tr><th></th><th scope=col>age</th><th scope=col>sex</th><th scope=col>cp</th><th scope=col>trestbps</th><th scope=col>chol</th><th scope=col>fbs</th><th scope=col>restecg</th><th scope=col>thalach</th><th scope=col>exang</th><th scope=col>oldpeak</th><th scope=col>slope</th><th scope=col>ca</th><th scope=col>thal</th><th scope=col>target</th></tr>\n",
              "\t<tr><th></th><th scope=col>&lt;int&gt;</th><th scope=col>&lt;int&gt;</th><th scope=col>&lt;int&gt;</th><th scope=col>&lt;int&gt;</th><th scope=col>&lt;int&gt;</th><th scope=col>&lt;int&gt;</th><th scope=col>&lt;int&gt;</th><th scope=col>&lt;int&gt;</th><th scope=col>&lt;int&gt;</th><th scope=col>&lt;dbl&gt;</th><th scope=col>&lt;int&gt;</th><th scope=col>&lt;int&gt;</th><th scope=col>&lt;int&gt;</th><th scope=col>&lt;int&gt;</th></tr>\n",
              "</thead>\n",
              "<tbody>\n",
              "\t<tr><th scope=row>1</th><td>63</td><td>1</td><td>3</td><td>145</td><td>233</td><td>1</td><td>0</td><td>150</td><td>0</td><td>2.3</td><td>0</td><td>0</td><td>1</td><td>1</td></tr>\n",
              "\t<tr><th scope=row>2</th><td>37</td><td>1</td><td>2</td><td>130</td><td>250</td><td>0</td><td>1</td><td>187</td><td>0</td><td>3.5</td><td>0</td><td>0</td><td>2</td><td>1</td></tr>\n",
              "\t<tr><th scope=row>3</th><td>41</td><td>0</td><td>1</td><td>130</td><td>204</td><td>0</td><td>0</td><td>172</td><td>0</td><td>1.4</td><td>2</td><td>0</td><td>2</td><td>1</td></tr>\n",
              "</tbody>\n",
              "</table>\n"
            ],
            "text/markdown": "\nA data.frame: 3 × 14\n\n| <!--/--> | age &lt;int&gt; | sex &lt;int&gt; | cp &lt;int&gt; | trestbps &lt;int&gt; | chol &lt;int&gt; | fbs &lt;int&gt; | restecg &lt;int&gt; | thalach &lt;int&gt; | exang &lt;int&gt; | oldpeak &lt;dbl&gt; | slope &lt;int&gt; | ca &lt;int&gt; | thal &lt;int&gt; | target &lt;int&gt; |\n|---|---|---|---|---|---|---|---|---|---|---|---|---|---|---|\n| 1 | 63 | 1 | 3 | 145 | 233 | 1 | 0 | 150 | 0 | 2.3 | 0 | 0 | 1 | 1 |\n| 2 | 37 | 1 | 2 | 130 | 250 | 0 | 1 | 187 | 0 | 3.5 | 0 | 0 | 2 | 1 |\n| 3 | 41 | 0 | 1 | 130 | 204 | 0 | 0 | 172 | 0 | 1.4 | 2 | 0 | 2 | 1 |\n\n",
            "text/latex": "A data.frame: 3 × 14\n\\begin{tabular}{r|llllllllllllll}\n  & age & sex & cp & trestbps & chol & fbs & restecg & thalach & exang & oldpeak & slope & ca & thal & target\\\\\n  & <int> & <int> & <int> & <int> & <int> & <int> & <int> & <int> & <int> & <dbl> & <int> & <int> & <int> & <int>\\\\\n\\hline\n\t1 & 63 & 1 & 3 & 145 & 233 & 1 & 0 & 150 & 0 & 2.3 & 0 & 0 & 1 & 1\\\\\n\t2 & 37 & 1 & 2 & 130 & 250 & 0 & 1 & 187 & 0 & 3.5 & 0 & 0 & 2 & 1\\\\\n\t3 & 41 & 0 & 1 & 130 & 204 & 0 & 0 & 172 & 0 & 1.4 & 2 & 0 & 2 & 1\\\\\n\\end{tabular}\n",
            "text/plain": [
              "  age sex cp trestbps chol fbs restecg thalach exang oldpeak slope ca thal\n",
              "1 63  1   3  145      233  1   0       150     0     2.3     0     0  1   \n",
              "2 37  1   2  130      250  0   1       187     0     3.5     0     0  2   \n",
              "3 41  0   1  130      204  0   0       172     0     1.4     2     0  2   \n",
              "  target\n",
              "1 1     \n",
              "2 1     \n",
              "3 1     "
            ]
          },
          "metadata": {}
        }
      ]
    },
    {
      "cell_type": "markdown",
      "metadata": {
        "id": "7pZ6iQywDb_a"
      },
      "source": [
        "# Data Wrangling"
      ]
    },
    {
      "cell_type": "code",
      "metadata": {
        "colab": {
          "base_uri": "https://localhost:8080/"
        },
        "id": "akl_i66dDZW5",
        "outputId": "3f1f9505-7029-4e90-d33e-7b0db9d4227e"
      },
      "source": [
        "heart <- heart %>%\n",
        "  #mutate_if(is.integer, as.factor) %>%\n",
        "  mutate(cp = as.factor(cp),\n",
        "         restecg = as.factor(restecg),\n",
        "         slope = as.factor(slope),\n",
        "         ca = as.factor(ca),\n",
        "         thal = as.factor(thal),\n",
        "         sex = factor(sex, levels = c(0,1), labels = c(\"female\", \"male\")),\n",
        "         fbs = factor(fbs, levels = c(0,1), labels = c(\"False\", \"True\")),\n",
        "         exang = factor(exang, levels = c(0,1), labels = c(\"No\", \"Yes\")),\n",
        "         target = factor(target, levels = c(0,1), labels = c(\"Health\", \"Not Health\")))\n",
        "\n",
        "glimpse(heart)"
      ],
      "execution_count": null,
      "outputs": [
        {
          "output_type": "stream",
          "name": "stdout",
          "text": [
            "Rows: 303\n",
            "Columns: 14\n",
            "$ age      \u001b[3m\u001b[90m<int>\u001b[39m\u001b[23m 63, 37, 41, 56, 57, 57, 56, 44, 52, 57, 54, 48, 49, 64, 58, 5…\n",
            "$ sex      \u001b[3m\u001b[90m<fct>\u001b[39m\u001b[23m male, male, female, male, female, male, female, male, male, m…\n",
            "$ cp       \u001b[3m\u001b[90m<fct>\u001b[39m\u001b[23m 3, 2, 1, 1, 0, 0, 1, 1, 2, 2, 0, 2, 1, 3, 3, 2, 2, 3, 0, 3, 0…\n",
            "$ trestbps \u001b[3m\u001b[90m<int>\u001b[39m\u001b[23m 145, 130, 130, 120, 120, 140, 140, 120, 172, 150, 140, 130, 1…\n",
            "$ chol     \u001b[3m\u001b[90m<int>\u001b[39m\u001b[23m 233, 250, 204, 236, 354, 192, 294, 263, 199, 168, 239, 275, 2…\n",
            "$ fbs      \u001b[3m\u001b[90m<fct>\u001b[39m\u001b[23m True, False, False, False, False, False, False, False, True, …\n",
            "$ restecg  \u001b[3m\u001b[90m<fct>\u001b[39m\u001b[23m 0, 1, 0, 1, 1, 1, 0, 1, 1, 1, 1, 1, 1, 0, 0, 1, 1, 1, 1, 1, 1…\n",
            "$ thalach  \u001b[3m\u001b[90m<int>\u001b[39m\u001b[23m 150, 187, 172, 178, 163, 148, 153, 173, 162, 174, 160, 139, 1…\n",
            "$ exang    \u001b[3m\u001b[90m<fct>\u001b[39m\u001b[23m No, No, No, No, Yes, No, No, No, No, No, No, No, No, Yes, No,…\n",
            "$ oldpeak  \u001b[3m\u001b[90m<dbl>\u001b[39m\u001b[23m 2.3, 3.5, 1.4, 0.8, 0.6, 0.4, 1.3, 0.0, 0.5, 1.6, 1.2, 0.2, 0…\n",
            "$ slope    \u001b[3m\u001b[90m<fct>\u001b[39m\u001b[23m 0, 0, 2, 2, 2, 1, 1, 2, 2, 2, 2, 2, 2, 1, 2, 1, 2, 0, 2, 2, 1…\n",
            "$ ca       \u001b[3m\u001b[90m<fct>\u001b[39m\u001b[23m 0, 0, 0, 0, 0, 0, 0, 0, 0, 0, 0, 0, 0, 0, 0, 0, 0, 0, 0, 2, 0…\n",
            "$ thal     \u001b[3m\u001b[90m<fct>\u001b[39m\u001b[23m 1, 2, 2, 2, 2, 1, 2, 3, 3, 2, 2, 2, 2, 2, 2, 2, 2, 2, 2, 2, 3…\n",
            "$ target   \u001b[3m\u001b[90m<fct>\u001b[39m\u001b[23m Not Health, Not Health, Not Health, Not Health, Not Health, N…\n"
          ]
        }
      ]
    },
    {
      "cell_type": "code",
      "metadata": {
        "colab": {
          "base_uri": "https://localhost:8080/",
          "height": 52
        },
        "id": "8P2mfGWWDgLV",
        "outputId": "7007a4cd-ca78-40c2-99d0-dc92b34ed5b8"
      },
      "source": [
        "colSums(is.na(heart))"
      ],
      "execution_count": null,
      "outputs": [
        {
          "output_type": "display_data",
          "data": {
            "text/html": [
              "<style>\n",
              ".dl-inline {width: auto; margin:0; padding: 0}\n",
              ".dl-inline>dt, .dl-inline>dd {float: none; width: auto; display: inline-block}\n",
              ".dl-inline>dt::after {content: \":\\0020\"; padding-right: .5ex}\n",
              ".dl-inline>dt:not(:first-of-type) {padding-left: .5ex}\n",
              "</style><dl class=dl-inline><dt>age</dt><dd>0</dd><dt>sex</dt><dd>0</dd><dt>cp</dt><dd>0</dd><dt>trestbps</dt><dd>0</dd><dt>chol</dt><dd>0</dd><dt>fbs</dt><dd>0</dd><dt>restecg</dt><dd>0</dd><dt>thalach</dt><dd>0</dd><dt>exang</dt><dd>0</dd><dt>oldpeak</dt><dd>0</dd><dt>slope</dt><dd>0</dd><dt>ca</dt><dd>0</dd><dt>thal</dt><dd>0</dd><dt>target</dt><dd>0</dd></dl>\n"
            ],
            "text/markdown": "age\n:   0sex\n:   0cp\n:   0trestbps\n:   0chol\n:   0fbs\n:   0restecg\n:   0thalach\n:   0exang\n:   0oldpeak\n:   0slope\n:   0ca\n:   0thal\n:   0target\n:   0\n\n",
            "text/latex": "\\begin{description*}\n\\item[age] 0\n\\item[sex] 0\n\\item[cp] 0\n\\item[trestbps] 0\n\\item[chol] 0\n\\item[fbs] 0\n\\item[restecg] 0\n\\item[thalach] 0\n\\item[exang] 0\n\\item[oldpeak] 0\n\\item[slope] 0\n\\item[ca] 0\n\\item[thal] 0\n\\item[target] 0\n\\end{description*}\n",
            "text/plain": [
              "     age      sex       cp trestbps     chol      fbs  restecg  thalach \n",
              "       0        0        0        0        0        0        0        0 \n",
              "   exang  oldpeak    slope       ca     thal   target \n",
              "       0        0        0        0        0        0 "
            ]
          },
          "metadata": {}
        }
      ]
    },
    {
      "cell_type": "markdown",
      "metadata": {
        "id": "6h9q5V_4DlIA"
      },
      "source": [
        "# Data Pre-Processing"
      ]
    },
    {
      "cell_type": "code",
      "metadata": {
        "colab": {
          "base_uri": "https://localhost:8080/",
          "height": 69
        },
        "id": "GLqZ6NuSDmNF",
        "outputId": "282988ef-13b1-443a-8f09-64ed220393a7"
      },
      "source": [
        "prop.table(table(heart$target))"
      ],
      "execution_count": null,
      "outputs": [
        {
          "output_type": "display_data",
          "data": {
            "text/plain": [
              "\n",
              "    Health Not Health \n",
              " 0.4554455  0.5445545 "
            ]
          },
          "metadata": {}
        }
      ]
    },
    {
      "cell_type": "code",
      "metadata": {
        "colab": {
          "base_uri": "https://localhost:8080/",
          "height": 69
        },
        "id": "aTZkvPmnDpH6",
        "outputId": "c5c72545-83ee-4b5d-eed9-8afbb18f46a2"
      },
      "source": [
        "table(heart$target)"
      ],
      "execution_count": null,
      "outputs": [
        {
          "output_type": "display_data",
          "data": {
            "text/plain": [
              "\n",
              "    Health Not Health \n",
              "       138        165 "
            ]
          },
          "metadata": {}
        }
      ]
    },
    {
      "cell_type": "markdown",
      "metadata": {
        "id": "UpGEi7gZH_wI"
      },
      "source": [
        "We can see that our proportion is balance enough, and we do not need to balancing the class by using down sample or up sample method."
      ]
    },
    {
      "cell_type": "markdown",
      "metadata": {
        "id": "j6nw0rFJE_wX"
      },
      "source": [
        "# Data Visualisation\n"
      ]
    },
    {
      "cell_type": "code",
      "metadata": {
        "colab": {
          "base_uri": "https://localhost:8080/",
          "height": 506
        },
        "id": "wkzf-1fEE_Jw",
        "outputId": "37d0241e-8fc2-47e4-bffc-c9c5bde5087f"
      },
      "source": [
        "ggplot(heart, aes(x=heart$target, fill=heart$target))+\n",
        "   geom_bar()+\n",
        "   xlab(\"Heart Disease\")+\n",
        "   ylab(\"count\")+\n",
        "   ggtitle(\"Presence & Absence of Heart Disease\")+\n",
        "   scale_fill_discrete (name= 'Heart Disease', labels=c(\"Absence\", \"Presence\"))"
      ],
      "execution_count": null,
      "outputs": [
        {
          "output_type": "stream",
          "name": "stderr",
          "text": [
            "Warning message:\n",
            "“Use of `heart$target` is discouraged. Use `target` instead.”\n",
            "Warning message:\n",
            "“Use of `heart$target` is discouraged. Use `target` instead.”\n"
          ]
        },
        {
          "output_type": "display_data",
          "data": {
            "text/plain": [
              "plot without title"
            ],
            "image/png": "[encoded data removed]"
          },
          "metadata": {
            "image/png": {
              "width": 420,
              "height": 420
            }
          }
        }
      ]
    },
    {
      "cell_type": "code",
      "metadata": {
        "colab": {
          "base_uri": "https://localhost:8080/",
          "height": 437
        },
        "id": "xsONufCLFQUs",
        "outputId": "7590b263-a64d-4bf7-f19f-3a91f847a394"
      },
      "source": [
        "# count the frequency of the values of age\n",
        "heart  %>%\n",
        "     group_by (age)  %>%\n",
        "     count()  %>%\n",
        "     filter(n>10)  %>%\n",
        "     ggplot()+\n",
        "     geom_col(aes(age, n), fill ='green')+ \n",
        "     ggtitle(\"Age Analysis\")+\n",
        "     xlab(\"Age\")+\n",
        "     ylab(\"Agecount\")"
      ],
      "execution_count": null,
      "outputs": [
        {
          "output_type": "display_data",
          "data": {
            "text/plain": [
              "plot without title"
            ],
            "image/png": "[encoded data removed]"
          },
          "metadata": {
            "image/png": {
              "width": 420,
              "height": 420
            }
          }
        }
      ]
    },
    {
      "cell_type": "code",
      "metadata": {
        "id": "yTseWCJbFWlJ",
        "colab": {
          "base_uri": "https://localhost:8080/",
          "height": 437
        },
        "outputId": "dd874f3b-b721-4c0f-e11f-adfa485560bd"
      },
      "source": [
        "# comapre blood pressure across the chest pain\n",
        "\n",
        "heart %>%\n",
        "  ggplot (aes (x=sex, y=trestbps))+\n",
        "  geom_boxplot (fill ='purple')+\n",
        "  xlab('sex')+\n",
        "  ylab('BP')+\n",
        "  facet_grid(~cp)"
      ],
      "execution_count": null,
      "outputs": [
        {
          "output_type": "display_data",
          "data": {
            "text/plain": [
              "plot without title"
            ],
            "image/png": "[encoded data removed]"
          },
          "metadata": {
            "image/png": {
              "width": 420,
              "height": 420
            }
          }
        }
      ]
    },
    {
      "cell_type": "code",
      "metadata": {
        "colab": {
          "base_uri": "https://localhost:8080/",
          "height": 437
        },
        "id": "jUpIrn9lFctC",
        "outputId": "0a8d4d9f-ba2c-490f-ae93-65344c9978c3"
      },
      "source": [
        " #comapre cholestrol across the chest pain\n",
        "\n",
        "heart %>%\n",
        "  ggplot (aes (x=sex, y=chol))+\n",
        "  geom_boxplot (fill ='orange')+\n",
        "  xlab('sex')+\n",
        "  ylab('chol')+\n",
        "  facet_grid(~cp)"
      ],
      "execution_count": null,
      "outputs": [
        {
          "output_type": "display_data",
          "data": {
            "text/plain": [
              "plot without title"
            ],
            "image/png": "[encoded data removed]"
          },
          "metadata": {
            "image/png": {
              "width": 420,
              "height": 420
            }
          }
        }
      ]
    },
    {
      "cell_type": "markdown",
      "metadata": {
        "id": "rsyJ7Oo1Dt_l"
      },
      "source": [
        "# Cross Validation"
      ]
    },
    {
      "cell_type": "markdown",
      "metadata": {
        "id": "AjSU5lTvISJC"
      },
      "source": [
        "Next step of our analysis will be splitting our data into train and test data. We will use our train data to train our model and use our test data to validate our model when overcoming the unseen data."
      ]
    },
    {
      "cell_type": "code",
      "metadata": {
        "id": "kPgsZd2yDr5t"
      },
      "source": [
        "set.seed(100)\n",
        "index <- sample(nrow(heart), nrow(heart)*0.7)\n",
        "\n",
        "# Data train\n",
        "train_heart <- heart[index,]\n",
        "\n",
        "# Data test\n",
        "test_heart <- heart[-index,]"
      ],
      "execution_count": null,
      "outputs": []
    },
    {
      "cell_type": "markdown",
      "metadata": {
        "id": "0AQ8BCIAIVJT"
      },
      "source": [
        "Next, we will check our train data proportion whether the proportion is balance enough to train our model, this need to be done so we can minimize the risk that our models are overfit."
      ]
    },
    {
      "cell_type": "code",
      "metadata": {
        "colab": {
          "base_uri": "https://localhost:8080/",
          "height": 69
        },
        "id": "jH1HCiwsD2Zw",
        "outputId": "3c11d4d9-1cda-4f63-e529-1730e203e06d"
      },
      "source": [
        "prop.table(table(train_heart$target))"
      ],
      "execution_count": null,
      "outputs": [
        {
          "output_type": "display_data",
          "data": {
            "text/plain": [
              "\n",
              "    Health Not Health \n",
              " 0.4575472  0.5424528 "
            ]
          },
          "metadata": {}
        }
      ]
    },
    {
      "cell_type": "markdown",
      "metadata": {
        "id": "Fy7GjNljIZtc"
      },
      "source": [
        "# Modelling"
      ]
    },
    {
      "cell_type": "markdown",
      "metadata": {
        "id": "LX-OB-d8IlFZ"
      },
      "source": [
        "We will create a model based on our train data. we will use several variables that may have a significant effect toward our target variable like sex, cp, fbs, and thal.\n",
        "\n",
        "Then we will also use the stepwise method to see if we can get a better model than our previous one"
      ]
    },
    {
      "cell_type": "code",
      "metadata": {
        "colab": {
          "base_uri": "https://localhost:8080/",
          "height": 538
        },
        "id": "RAhf_sNrIpHf",
        "outputId": "3f6b00f6-9f32-4440-e271-53fa1dd3fb14"
      },
      "source": [
        "# Create a model\n",
        "model1 <- glm(formula = target ~ sex + cp +  fbs + thal, family = \"binomial\", data = train_heart)\n",
        "\n",
        "# Model summary\n",
        "summary(model1)"
      ],
      "execution_count": null,
      "outputs": [
        {
          "output_type": "display_data",
          "data": {
            "text/plain": [
              "\n",
              "Call:\n",
              "glm(formula = target ~ sex + cp + fbs + thal, family = \"binomial\", \n",
              "    data = train_heart)\n",
              "\n",
              "Deviance Residuals: \n",
              "    Min       1Q   Median       3Q      Max  \n",
              "-2.5494  -0.6195   0.2813   0.6259   2.1699  \n",
              "\n",
              "Coefficients:\n",
              "            Estimate Std. Error z value Pr(>|z|)    \n",
              "(Intercept) -0.42390    1.89429  -0.224 0.822931    \n",
              "sexmale     -1.00808    0.46155  -2.184 0.028955 *  \n",
              "cp1          2.63834    0.58159   4.536 5.72e-06 ***\n",
              "cp2          1.96708    0.43148   4.559 5.14e-06 ***\n",
              "cp3          2.65973    0.75439   3.526 0.000422 ***\n",
              "fbsTrue     -0.11120    0.55873  -0.199 0.842244    \n",
              "thal1       -0.01373    1.99362  -0.007 0.994505    \n",
              "thal2        0.99582    1.89198   0.526 0.598653    \n",
              "thal3       -0.71130    1.89910  -0.375 0.708000    \n",
              "---\n",
              "Signif. codes:  0 ‘***’ 0.001 ‘**’ 0.01 ‘*’ 0.05 ‘.’ 0.1 ‘ ’ 1\n",
              "\n",
              "(Dispersion parameter for binomial family taken to be 1)\n",
              "\n",
              "    Null deviance: 292.36  on 211  degrees of freedom\n",
              "Residual deviance: 188.77  on 203  degrees of freedom\n",
              "AIC: 206.77\n",
              "\n",
              "Number of Fisher Scoring iterations: 5\n"
            ]
          },
          "metadata": {}
        }
      ]
    },
    {
      "cell_type": "markdown",
      "metadata": {
        "id": "bf56ESLiL0xZ"
      },
      "source": [
        "as we can see, there are only several variables that are significant toward our model. As we have not try other variable that may have been affected our target variable, we will try to use stepwise method to create a better model than our previous one."
      ]
    },
    {
      "cell_type": "code",
      "metadata": {
        "id": "Lfc7IrNtL1JU"
      },
      "source": [
        "# Create a model without predictor\n",
        "model_none <- glm(target ~ 1, family = \"binomial\", data = train_heart)\n",
        "\n",
        "# Create a model with all predictor\n",
        "model_all <- glm(target ~ ., family = \"binomial\", data = train_heart)"
      ],
      "execution_count": null,
      "outputs": []
    },
    {
      "cell_type": "code",
      "metadata": {
        "id": "WGbKt84tL3cN"
      },
      "source": [
        "# Stepwise regression backward\n",
        "model_back <- step(object = model_all, direction = \"backward\", trace = F)\n",
        "\n",
        "# Stepwise regression forward\n",
        "model_forw <- step(object = model_all, scope = list(lower = model_none, upper = model_all), direction = \"forward\", trace = F)\n",
        "\n",
        "# Stepwise regression both\n",
        "model_both <- step(object = model_all, scope = list(lower = model_none, upper = model_all), direction = \"both\", trace = F)"
      ],
      "execution_count": null,
      "outputs": []
    },
    {
      "cell_type": "markdown",
      "metadata": {
        "id": "_ynThoizMSnC"
      },
      "source": [
        "Next we will see our model summary in each of the model that we have been created before.\n",
        "\n",
        "We will see it based on:\n",
        "\n",
        "AIC, amount of information lost in the model, lower AIC indicate a good quality of a model.\n",
        "Residual Deviance, Error of the model when the model have a predictor, lower Residual Deviance means we have a better model"
      ]
    },
    {
      "cell_type": "code",
      "metadata": {
        "colab": {
          "base_uri": "https://localhost:8080/",
          "height": 676
        },
        "id": "utgMGgPHL7Tt",
        "outputId": "ee3c47b7-f292-48cb-adcf-0cb2411fe112"
      },
      "source": [
        "# Model Summary\n",
        "\n",
        "# Backward\n",
        "\n",
        "summary(model_back)"
      ],
      "execution_count": null,
      "outputs": [
        {
          "output_type": "display_data",
          "data": {
            "text/plain": [
              "\n",
              "Call:\n",
              "glm(formula = target ~ sex + cp + trestbps + restecg + slope + \n",
              "    ca + thal, family = \"binomial\", data = train_heart)\n",
              "\n",
              "Deviance Residuals: \n",
              "     Min        1Q    Median        3Q       Max  \n",
              "-3.00360  -0.31563   0.08544   0.38932   2.80515  \n",
              "\n",
              "Coefficients:\n",
              "            Estimate Std. Error z value Pr(>|z|)    \n",
              "(Intercept)  1.14771    3.54773   0.324 0.746311    \n",
              "sexmale     -1.94702    0.66841  -2.913 0.003581 ** \n",
              "cp1          1.82245    0.68720   2.652 0.008002 ** \n",
              "cp2          2.16193    0.57076   3.788 0.000152 ***\n",
              "cp3          3.67871    0.96664   3.806 0.000141 ***\n",
              "trestbps    -0.02357    0.01392  -1.693 0.090392 .  \n",
              "restecg1     0.89406    0.48413   1.847 0.064786 .  \n",
              "restecg2    -1.34017    1.93060  -0.694 0.487574    \n",
              "slope1       0.33531    1.02241   0.328 0.742943    \n",
              "slope2       2.29316    1.05204   2.180 0.029278 *  \n",
              "ca1         -2.24324    0.58867  -3.811 0.000139 ***\n",
              "ca2         -3.54535    0.95429  -3.715 0.000203 ***\n",
              "ca3         -1.84653    0.91095  -2.027 0.042660 *  \n",
              "ca4          1.23995    1.87483   0.661 0.508379    \n",
              "thal1        2.48179    2.93285   0.846 0.397440    \n",
              "thal2        2.49503    2.81405   0.887 0.375277    \n",
              "thal3        0.91494    2.81824   0.325 0.745447    \n",
              "---\n",
              "Signif. codes:  0 ‘***’ 0.001 ‘**’ 0.01 ‘*’ 0.05 ‘.’ 0.1 ‘ ’ 1\n",
              "\n",
              "(Dispersion parameter for binomial family taken to be 1)\n",
              "\n",
              "    Null deviance: 292.36  on 211  degrees of freedom\n",
              "Residual deviance: 127.71  on 195  degrees of freedom\n",
              "AIC: 161.71\n",
              "\n",
              "Number of Fisher Scoring iterations: 6\n"
            ]
          },
          "metadata": {}
        }
      ]
    },
    {
      "cell_type": "code",
      "metadata": {
        "colab": {
          "base_uri": "https://localhost:8080/",
          "height": 798
        },
        "id": "y6htSXIJMVaw",
        "outputId": "8ff65d81-255f-4092-9f54-d10b7dba1ff4"
      },
      "source": [
        "# Forward\n",
        "\n",
        "summary(model_forw)"
      ],
      "execution_count": null,
      "outputs": [
        {
          "output_type": "display_data",
          "data": {
            "text/plain": [
              "\n",
              "Call:\n",
              "glm(formula = target ~ age + sex + cp + trestbps + chol + fbs + \n",
              "    restecg + thalach + exang + oldpeak + slope + ca + thal, \n",
              "    family = \"binomial\", data = train_heart)\n",
              "\n",
              "Deviance Residuals: \n",
              "     Min        1Q    Median        3Q       Max  \n",
              "-2.97383  -0.26792   0.09287   0.42050   2.90599  \n",
              "\n",
              "Coefficients:\n",
              "             Estimate Std. Error z value Pr(>|z|)    \n",
              "(Intercept)  0.698162   4.308864   0.162 0.871283    \n",
              "age          0.037131   0.031962   1.162 0.245360    \n",
              "sexmale     -2.024142   0.722806  -2.800 0.005104 ** \n",
              "cp1          1.269686   0.744520   1.705 0.088125 .  \n",
              "cp2          1.793341   0.615266   2.915 0.003560 ** \n",
              "cp3          3.422971   1.031057   3.320 0.000901 ***\n",
              "trestbps    -0.027117   0.015591  -1.739 0.081984 .  \n",
              "chol        -0.005909   0.006067  -0.974 0.330050    \n",
              "fbsTrue      0.255722   0.763957   0.335 0.737826    \n",
              "restecg1     0.945576   0.502120   1.883 0.059678 .  \n",
              "restecg2    -0.960831   3.051418  -0.315 0.752853    \n",
              "thalach      0.009953   0.014681   0.678 0.497774    \n",
              "exangYes    -0.646220   0.557791  -1.159 0.246646    \n",
              "oldpeak     -0.303202   0.322751  -0.939 0.347511    \n",
              "slope1      -0.083720   1.180784  -0.071 0.943476    \n",
              "slope2       1.494174   1.286747   1.161 0.245559    \n",
              "ca1         -2.541702   0.651145  -3.903 9.48e-05 ***\n",
              "ca2         -3.686123   1.069670  -3.446 0.000569 ***\n",
              "ca3         -2.076167   1.004198  -2.067 0.038688 *  \n",
              "ca4          1.048384   2.079025   0.504 0.614074    \n",
              "thal1        2.883801   2.739549   1.053 0.292499    \n",
              "thal2        2.609207   2.608416   1.000 0.317164    \n",
              "thal3        1.108764   2.609270   0.425 0.670886    \n",
              "---\n",
              "Signif. codes:  0 ‘***’ 0.001 ‘**’ 0.01 ‘*’ 0.05 ‘.’ 0.1 ‘ ’ 1\n",
              "\n",
              "(Dispersion parameter for binomial family taken to be 1)\n",
              "\n",
              "    Null deviance: 292.36  on 211  degrees of freedom\n",
              "Residual deviance: 122.15  on 189  degrees of freedom\n",
              "AIC: 168.15\n",
              "\n",
              "Number of Fisher Scoring iterations: 6\n"
            ]
          },
          "metadata": {}
        }
      ]
    },
    {
      "cell_type": "code",
      "metadata": {
        "colab": {
          "base_uri": "https://localhost:8080/",
          "height": 676
        },
        "id": "r_3Aieo8MXf3",
        "outputId": "62051849-7057-4b21-8d7b-605fc82d3d38"
      },
      "source": [
        "# Both\n",
        "\n",
        "summary(model_both)"
      ],
      "execution_count": null,
      "outputs": [
        {
          "output_type": "display_data",
          "data": {
            "text/plain": [
              "\n",
              "Call:\n",
              "glm(formula = target ~ sex + cp + trestbps + restecg + slope + \n",
              "    ca + thal, family = \"binomial\", data = train_heart)\n",
              "\n",
              "Deviance Residuals: \n",
              "     Min        1Q    Median        3Q       Max  \n",
              "-3.00360  -0.31563   0.08544   0.38932   2.80515  \n",
              "\n",
              "Coefficients:\n",
              "            Estimate Std. Error z value Pr(>|z|)    \n",
              "(Intercept)  1.14771    3.54773   0.324 0.746311    \n",
              "sexmale     -1.94702    0.66841  -2.913 0.003581 ** \n",
              "cp1          1.82245    0.68720   2.652 0.008002 ** \n",
              "cp2          2.16193    0.57076   3.788 0.000152 ***\n",
              "cp3          3.67871    0.96664   3.806 0.000141 ***\n",
              "trestbps    -0.02357    0.01392  -1.693 0.090392 .  \n",
              "restecg1     0.89406    0.48413   1.847 0.064786 .  \n",
              "restecg2    -1.34017    1.93060  -0.694 0.487574    \n",
              "slope1       0.33531    1.02241   0.328 0.742943    \n",
              "slope2       2.29316    1.05204   2.180 0.029278 *  \n",
              "ca1         -2.24324    0.58867  -3.811 0.000139 ***\n",
              "ca2         -3.54535    0.95429  -3.715 0.000203 ***\n",
              "ca3         -1.84653    0.91095  -2.027 0.042660 *  \n",
              "ca4          1.23995    1.87483   0.661 0.508379    \n",
              "thal1        2.48179    2.93285   0.846 0.397440    \n",
              "thal2        2.49503    2.81405   0.887 0.375277    \n",
              "thal3        0.91494    2.81824   0.325 0.745447    \n",
              "---\n",
              "Signif. codes:  0 ‘***’ 0.001 ‘**’ 0.01 ‘*’ 0.05 ‘.’ 0.1 ‘ ’ 1\n",
              "\n",
              "(Dispersion parameter for binomial family taken to be 1)\n",
              "\n",
              "    Null deviance: 292.36  on 211  degrees of freedom\n",
              "Residual deviance: 127.71  on 195  degrees of freedom\n",
              "AIC: 161.71\n",
              "\n",
              "Number of Fisher Scoring iterations: 6\n"
            ]
          },
          "metadata": {}
        }
      ]
    },
    {
      "cell_type": "markdown",
      "metadata": {
        "id": "Z3FIoMJnMdBA"
      },
      "source": [
        "Based on the result, we can see that our model_back and model_both have a similar value of AIC & Residual Deviance. Both of those model have the AIC value 161.71 and the Residual deviance value 127.71. while our model_forw have the AIC value 168.15 and the Residual deviance value 122.15.\n",
        "\n",
        "Although our model_forw have a better Residual Deviance than other model, the number of variables that significant towards the our target variables are not as much as the other two models. Therefore, we will not choose model_forw and proceed to choose either the model_back or model_both.\n",
        "\n",
        "In this case we will choose model_both for our further analysis."
      ]
    },
    {
      "cell_type": "markdown",
      "metadata": {
        "id": "NNw3ONL_Mhzg"
      },
      "source": [
        "# Prediction"
      ]
    },
    {
      "cell_type": "code",
      "metadata": {
        "colab": {
          "base_uri": "https://localhost:8080/",
          "height": 437
        },
        "id": "l90lF8nxMZfh",
        "outputId": "7e5b4699-54c7-4ae8-b78f-a5ffe5a51058"
      },
      "source": [
        "test_heart$prediction <-  predict(model_both, type = \"response\", newdata = test_heart)\n",
        "\n",
        "# Create Plot\n",
        "\n",
        "test_heart %>%\n",
        "  ggplot(aes(x=prediction)) +\n",
        "  geom_density() +\n",
        "  labs(title = \"Probabilities Distribution of Prediction Data\") +\n",
        "  theme_minimal()"
      ],
      "execution_count": null,
      "outputs": [
        {
          "output_type": "display_data",
          "data": {
            "image/png": "[encoded data removed]",
            "text/plain": [
              "plot without title"
            ]
          },
          "metadata": {
            "image/png": {
              "width": 420,
              "height": 420
            }
          }
        }
      ]
    },
    {
      "cell_type": "code",
      "metadata": {
        "id": "hAnNfO4Kj5J6"
      },
      "source": [
        "pred <- predict(model_both, type = \"response\", newdata = test_heart)"
      ],
      "execution_count": null,
      "outputs": []
    },
    {
      "cell_type": "code",
      "metadata": {
        "id": "iJwaJt7-j8lP"
      },
      "source": [
        "result_pred <- ifelse(pred >= 0.5, \"Not Health\", \"Health\")\n",
        "\n",
        "# Put our result prediction into our test data\n",
        "\n",
        "test_heart$prediction <- result_pred"
      ],
      "execution_count": null,
      "outputs": []
    },
    {
      "cell_type": "markdown",
      "metadata": {
        "id": "4c89h631kFgT"
      },
      "source": [
        "Here are the overview comparison between our prediction data and the target variable of our test data"
      ]
    },
    {
      "cell_type": "code",
      "metadata": {
        "colab": {
          "base_uri": "https://localhost:8080/",
          "height": 255
        },
        "id": "R3uVfAXmj9wt",
        "outputId": "0f0ed7cc-6a3e-404d-8b95-8205e801bfcf"
      },
      "source": [
        "test_heart %>%\n",
        "  select(target, prediction) %>%\n",
        "  head(5)"
      ],
      "execution_count": null,
      "outputs": [
        {
          "output_type": "display_data",
          "data": {
            "text/html": [
              "<table class=\"dataframe\">\n",
              "<caption>A data.frame: 5 × 2</caption>\n",
              "<thead>\n",
              "\t<tr><th></th><th scope=col>target</th><th scope=col>prediction</th></tr>\n",
              "\t<tr><th></th><th scope=col>&lt;fct&gt;</th><th scope=col>&lt;chr&gt;</th></tr>\n",
              "</thead>\n",
              "<tbody>\n",
              "\t<tr><th scope=row>6</th><td>Not Health</td><td>Health    </td></tr>\n",
              "\t<tr><th scope=row>10</th><td>Not Health</td><td>Not Health</td></tr>\n",
              "\t<tr><th scope=row>17</th><td>Not Health</td><td>Not Health</td></tr>\n",
              "\t<tr><th scope=row>18</th><td>Not Health</td><td>Not Health</td></tr>\n",
              "\t<tr><th scope=row>21</th><td>Not Health</td><td>Health    </td></tr>\n",
              "</tbody>\n",
              "</table>\n"
            ],
            "text/markdown": "\nA data.frame: 5 × 2\n\n| <!--/--> | target &lt;fct&gt; | prediction &lt;chr&gt; |\n|---|---|---|\n| 6 | Not Health | Health     |\n| 10 | Not Health | Not Health |\n| 17 | Not Health | Not Health |\n| 18 | Not Health | Not Health |\n| 21 | Not Health | Health     |\n\n",
            "text/latex": "A data.frame: 5 × 2\n\\begin{tabular}{r|ll}\n  & target & prediction\\\\\n  & <fct> & <chr>\\\\\n\\hline\n\t6 & Not Health & Health    \\\\\n\t10 & Not Health & Not Health\\\\\n\t17 & Not Health & Not Health\\\\\n\t18 & Not Health & Not Health\\\\\n\t21 & Not Health & Health    \\\\\n\\end{tabular}\n",
            "text/plain": [
              "   target     prediction\n",
              "6  Not Health Health    \n",
              "10 Not Health Not Health\n",
              "17 Not Health Not Health\n",
              "18 Not Health Not Health\n",
              "21 Not Health Health    "
            ]
          },
          "metadata": {}
        }
      ]
    },
    {
      "cell_type": "markdown",
      "metadata": {
        "id": "5aBWnuNtlwTh"
      },
      "source": [
        "# Model Evalution"
      ]
    },
    {
      "cell_type": "markdown",
      "metadata": {
        "id": "SXVzBFTzm84Q"
      },
      "source": [
        "LOGISTIC REGRESSION\n"
      ]
    },
    {
      "cell_type": "code",
      "metadata": {
        "colab": {
          "base_uri": "https://localhost:8080/",
          "height": 486
        },
        "id": "TMJGfTfKkIaO",
        "outputId": "32a4524b-67e7-4576-f991-bcb519223d52"
      },
      "source": [
        "conf_mat <- confusionMatrix(as.factor(result_pred), reference = test_heart$target, positive = \"Not Health\")\n",
        "\n",
        "conf_mat\n"
      ],
      "execution_count": null,
      "outputs": [
        {
          "output_type": "display_data",
          "data": {
            "text/plain": [
              "Confusion Matrix and Statistics\n",
              "\n",
              "            Reference\n",
              "Prediction   Health Not Health\n",
              "  Health         30          4\n",
              "  Not Health     11         46\n",
              "                                          \n",
              "               Accuracy : 0.8352          \n",
              "                 95% CI : (0.7427, 0.9047)\n",
              "    No Information Rate : 0.5495          \n",
              "    P-Value [Acc > NIR] : 7.843e-09       \n",
              "                                          \n",
              "                  Kappa : 0.6619          \n",
              "                                          \n",
              " Mcnemar's Test P-Value : 0.1213          \n",
              "                                          \n",
              "            Sensitivity : 0.9200          \n",
              "            Specificity : 0.7317          \n",
              "         Pos Pred Value : 0.8070          \n",
              "         Neg Pred Value : 0.8824          \n",
              "             Prevalence : 0.5495          \n",
              "         Detection Rate : 0.5055          \n",
              "   Detection Prevalence : 0.6264          \n",
              "      Balanced Accuracy : 0.8259          \n",
              "                                          \n",
              "       'Positive' Class : Not Health      \n",
              "                                          "
            ]
          },
          "metadata": {}
        }
      ]
    },
    {
      "cell_type": "code",
      "metadata": {
        "colab": {
          "base_uri": "https://localhost:8080/",
          "height": 130
        },
        "id": "i1ELAGULmsp9",
        "outputId": "a71fcfca-3ab3-448f-e5ad-388bf0843379"
      },
      "source": [
        "recall <- round(46/(46+4),3)\n",
        "specificity <- round(30/(30+11),3)\n",
        "precision <- round(46/(46+11),3)\n",
        "accuracy <- round((46+30)/(46+30+11+4),3)\n",
        "\n",
        "matrix <- cbind.data.frame(accuracy, recall, specificity, precision)\n",
        "\n",
        "matrix"
      ],
      "execution_count": null,
      "outputs": [
        {
          "output_type": "display_data",
          "data": {
            "text/html": [
              "<table class=\"dataframe\">\n",
              "<caption>A data.frame: 1 × 4</caption>\n",
              "<thead>\n",
              "\t<tr><th scope=col>accuracy</th><th scope=col>recall</th><th scope=col>specificity</th><th scope=col>precision</th></tr>\n",
              "\t<tr><th scope=col>&lt;dbl&gt;</th><th scope=col>&lt;dbl&gt;</th><th scope=col>&lt;dbl&gt;</th><th scope=col>&lt;dbl&gt;</th></tr>\n",
              "</thead>\n",
              "<tbody>\n",
              "\t<tr><td>0.835</td><td>0.92</td><td>0.732</td><td>0.807</td></tr>\n",
              "</tbody>\n",
              "</table>\n"
            ],
            "text/markdown": "\nA data.frame: 1 × 4\n\n| accuracy &lt;dbl&gt; | recall &lt;dbl&gt; | specificity &lt;dbl&gt; | precision &lt;dbl&gt; |\n|---|---|---|---|\n| 0.835 | 0.92 | 0.732 | 0.807 |\n\n",
            "text/latex": "A data.frame: 1 × 4\n\\begin{tabular}{llll}\n accuracy & recall & specificity & precision\\\\\n <dbl> & <dbl> & <dbl> & <dbl>\\\\\n\\hline\n\t 0.835 & 0.92 & 0.732 & 0.807\\\\\n\\end{tabular}\n",
            "text/plain": [
              "  accuracy recall specificity precision\n",
              "1 0.835    0.92   0.732       0.807    "
            ]
          },
          "metadata": {}
        }
      ]
    },
    {
      "cell_type": "markdown",
      "metadata": {
        "id": "MwJe2SmbmxuR"
      },
      "source": [
        "Based on the matrix summary, we can see that the ability of our model to predict our target variable are 83.5%. from entire of our prediction data. Our model ability to correctly predicted the Not Health person is 92%, while it ability to correctly predicted the Health person is 73.2%. Furthermore, from all of Not Health prediction our model able to predict it correctly 80.7%"
      ]
    },
    {
      "cell_type": "markdown",
      "metadata": {
        "id": "ajsKxCovnB6o"
      },
      "source": [
        "Decision Tree"
      ]
    },
    {
      "cell_type": "code",
      "metadata": {
        "colab": {
          "base_uri": "https://localhost:8080/"
        },
        "id": "NxJ75VM4n4EL",
        "outputId": "6b5ddafe-68bc-4c49-bc2a-90d5904b34db"
      },
      "source": [
        "install.packages(\"rpart\", repos=\"https://cran.rstudio.com/\")\n",
        "install.packages(\"rpart.plot\", repos=\"https://cran.rstudio.com/\")"
      ],
      "execution_count": null,
      "outputs": [
        {
          "output_type": "stream",
          "name": "stderr",
          "text": [
            "Installing package into ‘/usr/local/lib/R/site-library’\n",
            "(as ‘lib’ is unspecified)\n",
            "\n",
            "Installing package into ‘/usr/local/lib/R/site-library’\n",
            "(as ‘lib’ is unspecified)\n",
            "\n"
          ]
        }
      ]
    },
    {
      "cell_type": "code",
      "metadata": {
        "colab": {
          "base_uri": "https://localhost:8080/",
          "height": 437
        },
        "id": "PL_sFzlZmtRN",
        "outputId": "02578aff-9ff6-45d1-9c2d-515e0d2aea66"
      },
      "source": [
        "library(rpart)#for rpart decision tree\n",
        "library(rpart.plot)#for visualising the tree\n",
        "model.tree<-rpart(target~.,data = train_heart)\n",
        "rpart.plot(model.tree)"
      ],
      "execution_count": null,
      "outputs": [
        {
          "output_type": "display_data",
          "data": {
            "text/plain": [
              "plot without title"
            ],
            "image/png": "[encoded data removed]"
          },
          "metadata": {
            "image/png": {
              "width": 420,
              "height": 420
            }
          }
        }
      ]
    },
    {
      "cell_type": "code",
      "metadata": {
        "colab": {
          "base_uri": "https://localhost:8080/",
          "height": 486
        },
        "id": "3hW1YsH3sErX",
        "outputId": "a439274e-6209-4d85-fac1-f04b132600cf"
      },
      "source": [
        "confusionMatrix(as.factor(predict(model.tree,newdata = test_heart, type = 'class')),test_heart$target)"
      ],
      "execution_count": null,
      "outputs": [
        {
          "output_type": "display_data",
          "data": {
            "text/plain": [
              "Confusion Matrix and Statistics\n",
              "\n",
              "            Reference\n",
              "Prediction   Health Not Health\n",
              "  Health         28          6\n",
              "  Not Health     13         44\n",
              "                                          \n",
              "               Accuracy : 0.7912          \n",
              "                 95% CI : (0.6933, 0.8694)\n",
              "    No Information Rate : 0.5495          \n",
              "    P-Value [Acc > NIR] : 1.303e-06       \n",
              "                                          \n",
              "                  Kappa : 0.5717          \n",
              "                                          \n",
              " Mcnemar's Test P-Value : 0.1687          \n",
              "                                          \n",
              "            Sensitivity : 0.6829          \n",
              "            Specificity : 0.8800          \n",
              "         Pos Pred Value : 0.8235          \n",
              "         Neg Pred Value : 0.7719          \n",
              "             Prevalence : 0.4505          \n",
              "         Detection Rate : 0.3077          \n",
              "   Detection Prevalence : 0.3736          \n",
              "      Balanced Accuracy : 0.7815          \n",
              "                                          \n",
              "       'Positive' Class : Health          \n",
              "                                          "
            ]
          },
          "metadata": {}
        }
      ]
    },
    {
      "cell_type": "markdown",
      "metadata": {
        "id": "1odpAA8guBQv"
      },
      "source": [
        "Random Forest"
      ]
    },
    {
      "cell_type": "code",
      "metadata": {
        "colab": {
          "base_uri": "https://localhost:8080/"
        },
        "id": "D3zui2KKuHSt",
        "outputId": "b8c87823-b633-4786-fdb2-26374ac65ee5"
      },
      "source": [
        "install.packages(\"randomForest\", repos=\"https://cran.rstudio.com/\")\n",
        "library(randomForest)"
      ],
      "execution_count": null,
      "outputs": [
        {
          "output_type": "stream",
          "name": "stderr",
          "text": [
            "Installing package into ‘/usr/local/lib/R/site-library’\n",
            "(as ‘lib’ is unspecified)\n",
            "\n",
            "randomForest 4.7-1\n",
            "\n",
            "Type rfNews() to see new features/changes/bug fixes.\n",
            "\n",
            "\n",
            "Attaching package: ‘randomForest’\n",
            "\n",
            "\n",
            "The following object is masked from ‘package:dplyr’:\n",
            "\n",
            "    combine\n",
            "\n",
            "\n",
            "The following object is masked from ‘package:ggplot2’:\n",
            "\n",
            "    margin\n",
            "\n",
            "\n"
          ]
        }
      ]
    },
    {
      "cell_type": "code",
      "metadata": {
        "id": "aBPI5juCuTPe"
      },
      "source": [
        "model.rf<-randomForest(target~., train_heart, importance = T, ntree=500)"
      ],
      "execution_count": null,
      "outputs": []
    },
    {
      "cell_type": "code",
      "metadata": {
        "colab": {
          "base_uri": "https://localhost:8080/",
          "height": 503
        },
        "id": "x-287tDav3Uw",
        "outputId": "dd888b79-0b13-4d04-f16b-cec496187a92"
      },
      "source": [
        "print('Random Forest Accuracy')\n",
        "confusionMatrix(as.factor(predict(model.rf,newdata = test_heart, type = 'class')),test_heart$target)"
      ],
      "execution_count": null,
      "outputs": [
        {
          "output_type": "stream",
          "name": "stdout",
          "text": [
            "[1] \"Random Forest Accuracy\"\n"
          ]
        },
        {
          "output_type": "display_data",
          "data": {
            "text/plain": [
              "Confusion Matrix and Statistics\n",
              "\n",
              "            Reference\n",
              "Prediction   Health Not Health\n",
              "  Health         29          1\n",
              "  Not Health     12         49\n",
              "                                          \n",
              "               Accuracy : 0.8571          \n",
              "                 95% CI : (0.7681, 0.9217)\n",
              "    No Information Rate : 0.5495          \n",
              "    P-Value [Acc > NIR] : 3.897e-10       \n",
              "                                          \n",
              "                  Kappa : 0.7043          \n",
              "                                          \n",
              " Mcnemar's Test P-Value : 0.005546        \n",
              "                                          \n",
              "            Sensitivity : 0.7073          \n",
              "            Specificity : 0.9800          \n",
              "         Pos Pred Value : 0.9667          \n",
              "         Neg Pred Value : 0.8033          \n",
              "             Prevalence : 0.4505          \n",
              "         Detection Rate : 0.3187          \n",
              "   Detection Prevalence : 0.3297          \n",
              "      Balanced Accuracy : 0.8437          \n",
              "                                          \n",
              "       'Positive' Class : Health          \n",
              "                                          "
            ]
          },
          "metadata": {}
        }
      ]
    },
    {
      "cell_type": "markdown",
      "metadata": {
        "id": "ewzxLjoIrD53"
      },
      "source": [
        "Single Layer Nueral Network"
      ]
    },
    {
      "cell_type": "code",
      "metadata": {
        "colab": {
          "base_uri": "https://localhost:8080/"
        },
        "id": "3pjqW5L8rPB2",
        "outputId": "02f98584-a14d-42a6-d6b3-9c87ebf8231e"
      },
      "source": [
        "install.packages(\"nnet\", repos=\"https://cran.rstudio.com/\")\n",
        "install.packages(\"NeuralNetTools\", repos=\"https://cran.rstudio.com/\")"
      ],
      "execution_count": null,
      "outputs": [
        {
          "output_type": "stream",
          "name": "stderr",
          "text": [
            "Installing package into ‘/usr/local/lib/R/site-library’\n",
            "(as ‘lib’ is unspecified)\n",
            "\n",
            "Installing package into ‘/usr/local/lib/R/site-library’\n",
            "(as ‘lib’ is unspecified)\n",
            "\n"
          ]
        }
      ]
    },
    {
      "cell_type": "code",
      "metadata": {
        "colab": {
          "base_uri": "https://localhost:8080/",
          "height": 506
        },
        "id": "VDkjgJuJqRx_",
        "outputId": "eddf1044-a981-4f1e-eb17-42c351a7d1f3"
      },
      "source": [
        "library(nnet)#for neural netwrok model\n",
        "library(NeuralNetTools)#for neural network plot\n",
        "model.nn<-nnet(target~.,data = train_heart, size = 5 , maxit = 1000)\n",
        "plotnet(model.nn)"
      ],
      "execution_count": null,
      "outputs": [
        {
          "output_type": "stream",
          "name": "stdout",
          "text": [
            "# weights:  121\n",
            "initial  value 186.196279 \n",
            "final  value 146.182131 \n",
            "converged\n"
          ]
        },
        {
          "output_type": "display_data",
          "data": {
            "text/plain": [
              "plot without title"
            ],
            "image/png": "[encoded data removed]"
          },
          "metadata": {
            "image/png": {
              "width": 420,
              "height": 420
            }
          }
        }
      ]
    },
    {
      "cell_type": "code",
      "metadata": {
        "colab": {
          "base_uri": "https://localhost:8080/",
          "height": 538
        },
        "id": "iaa9TMS5rlAR",
        "outputId": "4f05a1bb-bbd5-4e6c-c995-6fca7264a5ae"
      },
      "source": [
        "print('Neural Network Accuracy')\n",
        "confusionMatrix(as.factor(predict(model.nn,newdata = test_heart, type = 'class')),test_heart$target)\n"
      ],
      "execution_count": null,
      "outputs": [
        {
          "output_type": "stream",
          "name": "stdout",
          "text": [
            "[1] \"Neural Network Accuracy\"\n"
          ]
        },
        {
          "output_type": "stream",
          "name": "stderr",
          "text": [
            "Warning message in confusionMatrix.default(as.factor(predict(model.nn, newdata = test_heart, :\n",
            "“Levels are not in the same order for reference and data. Refactoring data to match.”\n"
          ]
        },
        {
          "output_type": "display_data",
          "data": {
            "text/plain": [
              "Confusion Matrix and Statistics\n",
              "\n",
              "            Reference\n",
              "Prediction   Health Not Health\n",
              "  Health          0          0\n",
              "  Not Health     41         50\n",
              "                                         \n",
              "               Accuracy : 0.5495         \n",
              "                 95% CI : (0.4416, 0.654)\n",
              "    No Information Rate : 0.5495         \n",
              "    P-Value [Acc > NIR] : 0.5433         \n",
              "                                         \n",
              "                  Kappa : 0              \n",
              "                                         \n",
              " Mcnemar's Test P-Value : 4.185e-10      \n",
              "                                         \n",
              "            Sensitivity : 0.0000         \n",
              "            Specificity : 1.0000         \n",
              "         Pos Pred Value :    NaN         \n",
              "         Neg Pred Value : 0.5495         \n",
              "             Prevalence : 0.4505         \n",
              "         Detection Rate : 0.0000         \n",
              "   Detection Prevalence : 0.0000         \n",
              "      Balanced Accuracy : 0.5000         \n",
              "                                         \n",
              "       'Positive' Class : Health         \n",
              "                                         "
            ]
          },
          "metadata": {}
        }
      ]
    },
    {
      "cell_type": "code",
      "metadata": {
        "id": "m0Tk9eE5wCDK"
      },
      "source": [
        ""
      ],
      "execution_count": null,
      "outputs": []
    },
    {
      "cell_type": "markdown",
      "metadata": {
        "id": "qtXdr8ETf8I0"
      },
      "source": [
        "Support Vector Machine \n"
      ]
    },
    {
      "cell_type": "code",
      "metadata": {
        "id": "wPbRVvYAgcs4"
      },
      "source": [
        "data2<-read.csv(\"heart.csv\")"
      ],
      "execution_count": null,
      "outputs": []
    },
    {
      "cell_type": "code",
      "metadata": {
        "colab": {
          "base_uri": "https://localhost:8080/"
        },
        "id": "b8MkI3Wojb8w",
        "outputId": "d7ea3d7a-be04-4c20-e57e-713ff98256d3"
      },
      "source": [
        "install.packages(\"e1071\", repos=\"https://cran.rstudio.com/\")\n",
        "install.packages(\"pkList\", repos=\"https://cran.rstudio.com/\")"
      ],
      "execution_count": null,
      "outputs": [
        {
          "output_type": "stream",
          "name": "stderr",
          "text": [
            "Installing package into ‘/usr/local/lib/R/site-library’\n",
            "(as ‘lib’ is unspecified)\n",
            "\n",
            "Installing package into ‘/usr/local/lib/R/site-library’\n",
            "(as ‘lib’ is unspecified)\n",
            "\n",
            "Warning message:\n",
            "“package ‘pkList’ is not available for this version of R\n",
            "\n",
            "A version of this package for your version of R might be available elsewhere,\n",
            "see the ideas at\n",
            "https://cran.r-project.org/doc/manuals/r-patched/R-admin.html#Installing-packages”\n"
          ]
        }
      ]
    },
    {
      "cell_type": "code",
      "metadata": {
        "id": "CVgg0ud3jp9L",
        "colab": {
          "base_uri": "https://localhost:8080/"
        },
        "outputId": "ce404c7c-dfd1-48d8-b80e-b31dd8f4ead8"
      },
      "source": [
        "library(\"e1071\")"
      ],
      "execution_count": null,
      "outputs": [
        {
          "output_type": "stream",
          "name": "stderr",
          "text": [
            "\n",
            "Attaching package: ‘e1071’\n",
            "\n",
            "\n",
            "The following object is masked from ‘package:gtools’:\n",
            "\n",
            "    permutations\n",
            "\n",
            "\n"
          ]
        }
      ]
    },
    {
      "cell_type": "code",
      "metadata": {
        "id": "FnpiieurhBYT"
      },
      "source": [
        "#We’ll be using the training set specifically for our model building and the testing set for evaluating the model:\n",
        "intrain <- createDataPartition(y = data2$fbs, p= 0.7, list = FALSE)\n",
        "training <- data2[intrain,]\n",
        "testing <- data2[-intrain,]\n",
        "\n"
      ],
      "execution_count": null,
      "outputs": []
    },
    {
      "cell_type": "code",
      "metadata": {
        "colab": {
          "base_uri": "https://localhost:8080/",
          "height": 52
        },
        "id": "9X6KZc7KhtHj",
        "outputId": "873f71b8-15bc-47f5-97b7-50bdacfa8db5"
      },
      "source": [
        "dim(training); \n",
        "dim(testing);"
      ],
      "execution_count": null,
      "outputs": [
        {
          "output_type": "display_data",
          "data": {
            "text/html": [
              "<style>\n",
              ".list-inline {list-style: none; margin:0; padding: 0}\n",
              ".list-inline>li {display: inline-block}\n",
              ".list-inline>li:not(:last-child)::after {content: \"\\00b7\"; padding: 0 .5ex}\n",
              "</style>\n",
              "<ol class=list-inline><li>213</li><li>14</li></ol>\n"
            ],
            "text/markdown": "1. 213\n2. 14\n\n\n",
            "text/latex": "\\begin{enumerate*}\n\\item 213\n\\item 14\n\\end{enumerate*}\n",
            "text/plain": [
              "[1] 213  14"
            ]
          },
          "metadata": {}
        },
        {
          "output_type": "display_data",
          "data": {
            "text/html": [
              "<style>\n",
              ".list-inline {list-style: none; margin:0; padding: 0}\n",
              ".list-inline>li {display: inline-block}\n",
              ".list-inline>li:not(:last-child)::after {content: \"\\00b7\"; padding: 0 .5ex}\n",
              "</style>\n",
              "<ol class=list-inline><li>90</li><li>14</li></ol>\n"
            ],
            "text/markdown": "1. 90\n2. 14\n\n\n",
            "text/latex": "\\begin{enumerate*}\n\\item 90\n\\item 14\n\\end{enumerate*}\n",
            "text/plain": [
              "[1] 90 14"
            ]
          },
          "metadata": {}
        }
      ]
    },
    {
      "cell_type": "code",
      "metadata": {
        "colab": {
          "base_uri": "https://localhost:8080/",
          "height": 34
        },
        "id": "rbq9f4BChy1f",
        "outputId": "f811ca99-9bf8-4534-8210-2862a2b96014"
      },
      "source": [
        "anyNA(data2)"
      ],
      "execution_count": null,
      "outputs": [
        {
          "output_type": "display_data",
          "data": {
            "text/html": [
              "FALSE"
            ],
            "text/markdown": "FALSE",
            "text/latex": "FALSE",
            "text/plain": [
              "[1] FALSE"
            ]
          },
          "metadata": {}
        }
      ]
    },
    {
      "cell_type": "code",
      "metadata": {
        "colab": {
          "base_uri": "https://localhost:8080/",
          "height": 503
        },
        "id": "SguQVX-Ah8IT",
        "outputId": "784ae5ac-c537-4546-c7e3-28717f6fae00"
      },
      "source": [
        "summary(data2)"
      ],
      "execution_count": null,
      "outputs": [
        {
          "output_type": "display_data",
          "data": {
            "text/plain": [
              "      age             sex               cp           trestbps    \n",
              " Min.   :29.00   Min.   :0.0000   Min.   :0.000   Min.   : 94.0  \n",
              " 1st Qu.:47.50   1st Qu.:0.0000   1st Qu.:0.000   1st Qu.:120.0  \n",
              " Median :55.00   Median :1.0000   Median :1.000   Median :130.0  \n",
              " Mean   :54.37   Mean   :0.6832   Mean   :0.967   Mean   :131.6  \n",
              " 3rd Qu.:61.00   3rd Qu.:1.0000   3rd Qu.:2.000   3rd Qu.:140.0  \n",
              " Max.   :77.00   Max.   :1.0000   Max.   :3.000   Max.   :200.0  \n",
              "      chol            fbs            restecg          thalach     \n",
              " Min.   :126.0   Min.   :0.0000   Min.   :0.0000   Min.   : 71.0  \n",
              " 1st Qu.:211.0   1st Qu.:0.0000   1st Qu.:0.0000   1st Qu.:133.5  \n",
              " Median :240.0   Median :0.0000   Median :1.0000   Median :153.0  \n",
              " Mean   :246.3   Mean   :0.1485   Mean   :0.5281   Mean   :149.6  \n",
              " 3rd Qu.:274.5   3rd Qu.:0.0000   3rd Qu.:1.0000   3rd Qu.:166.0  \n",
              " Max.   :564.0   Max.   :1.0000   Max.   :2.0000   Max.   :202.0  \n",
              "     exang           oldpeak         slope             ca        \n",
              " Min.   :0.0000   Min.   :0.00   Min.   :0.000   Min.   :0.0000  \n",
              " 1st Qu.:0.0000   1st Qu.:0.00   1st Qu.:1.000   1st Qu.:0.0000  \n",
              " Median :0.0000   Median :0.80   Median :1.000   Median :0.0000  \n",
              " Mean   :0.3267   Mean   :1.04   Mean   :1.399   Mean   :0.7294  \n",
              " 3rd Qu.:1.0000   3rd Qu.:1.60   3rd Qu.:2.000   3rd Qu.:1.0000  \n",
              " Max.   :1.0000   Max.   :6.20   Max.   :2.000   Max.   :4.0000  \n",
              "      thal           target      \n",
              " Min.   :0.000   Min.   :0.0000  \n",
              " 1st Qu.:2.000   1st Qu.:0.0000  \n",
              " Median :2.000   Median :1.0000  \n",
              " Mean   :2.314   Mean   :0.5446  \n",
              " 3rd Qu.:3.000   3rd Qu.:1.0000  \n",
              " Max.   :3.000   Max.   :1.0000  "
            ]
          },
          "metadata": {}
        }
      ]
    },
    {
      "cell_type": "code",
      "metadata": {
        "id": "p9ZnMhqth-Vb"
      },
      "source": [
        "training[[\"fbs\"]] = factor(training[[\"fbs\"]])"
      ],
      "execution_count": null,
      "outputs": []
    },
    {
      "cell_type": "code",
      "metadata": {
        "id": "LtRO2nQhiEBT"
      },
      "source": [
        "##Before we train our model, we’ll first implement the trainControl() method. This will control all the computational overheads so that we can use the train() function provided by the caret package. The training method will train our data on different algorithms.\n",
        "\n",
        "#First, let’s focus on the traincontrol() method:\n",
        "\n",
        "trctrl <- trainControl(method = \"repeatedcv\", number = 10, repeats = 3)"
      ],
      "execution_count": null,
      "outputs": []
    },
    {
      "cell_type": "code",
      "metadata": {
        "colab": {
          "base_uri": "https://localhost:8080/",
          "height": 382
        },
        "id": "uSbqcaj9kScK",
        "outputId": "d78fa94b-017f-451d-d2bc-519e9ca1e01f"
      },
      "source": [
        "svm_Linear <- svm(fbs ~ ., data=training)\n",
        "summary(svm_Linear)"
      ],
      "execution_count": null,
      "outputs": [
        {
          "output_type": "display_data",
          "data": {
            "text/plain": [
              "\n",
              "Call:\n",
              "svm(formula = fbs ~ ., data = training)\n",
              "\n",
              "\n",
              "Parameters:\n",
              "   SVM-Type:  C-classification \n",
              " SVM-Kernel:  radial \n",
              "       cost:  1 \n",
              "\n",
              "Number of Support Vectors:  105\n",
              "\n",
              " ( 32 73 )\n",
              "\n",
              "\n",
              "Number of Classes:  2 \n",
              "\n",
              "Levels: \n",
              " 0 1\n",
              "\n",
              "\n"
            ]
          },
          "metadata": {}
        }
      ]
    },
    {
      "cell_type": "code",
      "metadata": {
        "colab": {
          "base_uri": "https://localhost:8080/",
          "height": 156
        },
        "id": "nsuHp1oGkYIT",
        "outputId": "28550de9-3f69-404b-d8aa-9e9f38ed4a45"
      },
      "source": [
        "test_pred <- predict(svm_Linear, newdata = testing)\n",
        "test_pred"
      ],
      "execution_count": null,
      "outputs": [
        {
          "output_type": "display_data",
          "data": {
            "text/html": [
              "<style>\n",
              ".dl-inline {width: auto; margin:0; padding: 0}\n",
              ".dl-inline>dt, .dl-inline>dd {float: none; width: auto; display: inline-block}\n",
              ".dl-inline>dt::after {content: \":\\0020\"; padding-right: .5ex}\n",
              ".dl-inline>dt:not(:first-of-type) {padding-left: .5ex}\n",
              "</style><dl class=dl-inline><dt>5</dt><dd>0</dd><dt>10</dt><dd>0</dd><dt>12</dt><dd>0</dd><dt>17</dt><dd>0</dd><dt>18</dt><dd>0</dd><dt>23</dt><dd>0</dd><dt>30</dt><dd>0</dd><dt>31</dt><dd>0</dd><dt>32</dt><dd>0</dd><dt>34</dt><dd>0</dd><dt>35</dt><dd>0</dd><dt>37</dt><dd>0</dd><dt>46</dt><dd>0</dd><dt>48</dt><dd>0</dd><dt>52</dt><dd>0</dd><dt>53</dt><dd>0</dd><dt>54</dt><dd>0</dd><dt>56</dt><dd>0</dd><dt>57</dt><dd>0</dd><dt>61</dt><dd>0</dd><dt>68</dt><dd>0</dd><dt>73</dt><dd>0</dd><dt>75</dt><dd>0</dd><dt>79</dt><dd>0</dd><dt>88</dt><dd>0</dd><dt>89</dt><dd>0</dd><dt>90</dt><dd>0</dd><dt>92</dt><dd>0</dd><dt>96</dt><dd>0</dd><dt>98</dt><dd>0</dd><dt>104</dt><dd>0</dd><dt>106</dt><dd>0</dd><dt>113</dt><dd>0</dd><dt>114</dt><dd>0</dd><dt>118</dt><dd>0</dd><dt>133</dt><dd>0</dd><dt>135</dt><dd>0</dd><dt>136</dt><dd>0</dd><dt>138</dt><dd>0</dd><dt>143</dt><dd>0</dd><dt>144</dt><dd>0</dd><dt>145</dt><dd>0</dd><dt>146</dt><dd>0</dd><dt>148</dt><dd>0</dd><dt>151</dt><dd>0</dd><dt>156</dt><dd>0</dd><dt>157</dt><dd>0</dd><dt>159</dt><dd>0</dd><dt>166</dt><dd>0</dd><dt>168</dt><dd>0</dd><dt>169</dt><dd>0</dd><dt>170</dt><dd>0</dd><dt>172</dt><dd>0</dd><dt>177</dt><dd>0</dd><dt>178</dt><dd>0</dd><dt>179</dt><dd>0</dd><dt>180</dt><dd>0</dd><dt>182</dt><dd>0</dd><dt>184</dt><dd>0</dd><dt>186</dt><dd>0</dd><dt>191</dt><dd>0</dd><dt>196</dt><dd>0</dd><dt>201</dt><dd>0</dd><dt>206</dt><dd>0</dd><dt>213</dt><dd>0</dd><dt>214</dt><dd>0</dd><dt>219</dt><dd>0</dd><dt>221</dt><dd>0</dd><dt>223</dt><dd>0</dd><dt>237</dt><dd>0</dd><dt>242</dt><dd>0</dd><dt>243</dt><dd>0</dd><dt>245</dt><dd>0</dd><dt>247</dt><dd>0</dd><dt>249</dt><dd>0</dd><dt>251</dt><dd>0</dd><dt>252</dt><dd>0</dd><dt>265</dt><dd>0</dd><dt>267</dt><dd>0</dd><dt>269</dt><dd>0</dd><dt>274</dt><dd>0</dd><dt>278</dt><dd>0</dd><dt>283</dt><dd>0</dd><dt>287</dt><dd>0</dd><dt>289</dt><dd>0</dd><dt>291</dt><dd>0</dd><dt>292</dt><dd>0</dd><dt>297</dt><dd>0</dd><dt>299</dt><dd>0</dd><dt>302</dt><dd>0</dd></dl>\n",
              "\n",
              "<details>\n",
              "\t<summary style=display:list-item;cursor:pointer>\n",
              "\t\t<strong>Levels</strong>:\n",
              "\t</summary>\n",
              "\t<style>\n",
              "\t.list-inline {list-style: none; margin:0; padding: 0}\n",
              "\t.list-inline>li {display: inline-block}\n",
              "\t.list-inline>li:not(:last-child)::after {content: \"\\00b7\"; padding: 0 .5ex}\n",
              "\t</style>\n",
              "\t<ol class=list-inline><li>'0'</li><li>'1'</li></ol>\n",
              "</details>"
            ],
            "text/markdown": "5\n:   010\n:   012\n:   017\n:   018\n:   023\n:   030\n:   031\n:   032\n:   034\n:   035\n:   037\n:   046\n:   048\n:   052\n:   053\n:   054\n:   056\n:   057\n:   061\n:   068\n:   073\n:   075\n:   079\n:   088\n:   089\n:   090\n:   092\n:   096\n:   098\n:   0104\n:   0106\n:   0113\n:   0114\n:   0118\n:   0133\n:   0135\n:   0136\n:   0138\n:   0143\n:   0144\n:   0145\n:   0146\n:   0148\n:   0151\n:   0156\n:   0157\n:   0159\n:   0166\n:   0168\n:   0169\n:   0170\n:   0172\n:   0177\n:   0178\n:   0179\n:   0180\n:   0182\n:   0184\n:   0186\n:   0191\n:   0196\n:   0201\n:   0206\n:   0213\n:   0214\n:   0219\n:   0221\n:   0223\n:   0237\n:   0242\n:   0243\n:   0245\n:   0247\n:   0249\n:   0251\n:   0252\n:   0265\n:   0267\n:   0269\n:   0274\n:   0278\n:   0283\n:   0287\n:   0289\n:   0291\n:   0292\n:   0297\n:   0299\n:   0302\n:   0\n\n\n**Levels**: 1. '0'\n2. '1'\n\n\n",
            "text/latex": "\\begin{description*}\n\\item[5] 0\n\\item[10] 0\n\\item[12] 0\n\\item[17] 0\n\\item[18] 0\n\\item[23] 0\n\\item[30] 0\n\\item[31] 0\n\\item[32] 0\n\\item[34] 0\n\\item[35] 0\n\\item[37] 0\n\\item[46] 0\n\\item[48] 0\n\\item[52] 0\n\\item[53] 0\n\\item[54] 0\n\\item[56] 0\n\\item[57] 0\n\\item[61] 0\n\\item[68] 0\n\\item[73] 0\n\\item[75] 0\n\\item[79] 0\n\\item[88] 0\n\\item[89] 0\n\\item[90] 0\n\\item[92] 0\n\\item[96] 0\n\\item[98] 0\n\\item[104] 0\n\\item[106] 0\n\\item[113] 0\n\\item[114] 0\n\\item[118] 0\n\\item[133] 0\n\\item[135] 0\n\\item[136] 0\n\\item[138] 0\n\\item[143] 0\n\\item[144] 0\n\\item[145] 0\n\\item[146] 0\n\\item[148] 0\n\\item[151] 0\n\\item[156] 0\n\\item[157] 0\n\\item[159] 0\n\\item[166] 0\n\\item[168] 0\n\\item[169] 0\n\\item[170] 0\n\\item[172] 0\n\\item[177] 0\n\\item[178] 0\n\\item[179] 0\n\\item[180] 0\n\\item[182] 0\n\\item[184] 0\n\\item[186] 0\n\\item[191] 0\n\\item[196] 0\n\\item[201] 0\n\\item[206] 0\n\\item[213] 0\n\\item[214] 0\n\\item[219] 0\n\\item[221] 0\n\\item[223] 0\n\\item[237] 0\n\\item[242] 0\n\\item[243] 0\n\\item[245] 0\n\\item[247] 0\n\\item[249] 0\n\\item[251] 0\n\\item[252] 0\n\\item[265] 0\n\\item[267] 0\n\\item[269] 0\n\\item[274] 0\n\\item[278] 0\n\\item[283] 0\n\\item[287] 0\n\\item[289] 0\n\\item[291] 0\n\\item[292] 0\n\\item[297] 0\n\\item[299] 0\n\\item[302] 0\n\\end{description*}\n\n\\emph{Levels}: \\begin{enumerate*}\n\\item '0'\n\\item '1'\n\\end{enumerate*}\n",
            "text/plain": [
              "  5  10  12  17  18  23  30  31  32  34  35  37  46  48  52  53  54  56  57  61 \n",
              "  0   0   0   0   0   0   0   0   0   0   0   0   0   0   0   0   0   0   0   0 \n",
              " 68  73  75  79  88  89  90  92  96  98 104 106 113 114 118 133 135 136 138 143 \n",
              "  0   0   0   0   0   0   0   0   0   0   0   0   0   0   0   0   0   0   0   0 \n",
              "144 145 146 148 151 156 157 159 166 168 169 170 172 177 178 179 180 182 184 186 \n",
              "  0   0   0   0   0   0   0   0   0   0   0   0   0   0   0   0   0   0   0   0 \n",
              "191 196 201 206 213 214 219 221 223 237 242 243 245 247 249 251 252 265 267 269 \n",
              "  0   0   0   0   0   0   0   0   0   0   0   0   0   0   0   0   0   0   0   0 \n",
              "274 278 283 287 289 291 292 297 299 302 \n",
              "  0   0   0   0   0   0   0   0   0   0 \n",
              "Levels: 0 1"
            ]
          },
          "metadata": {}
        }
      ]
    },
    {
      "cell_type": "code",
      "metadata": {
        "colab": {
          "base_uri": "https://localhost:8080/",
          "height": 486
        },
        "id": "w-2oL8YIlRZh",
        "outputId": "d82a7242-ae6e-42b6-8cda-cef6419f0ecb"
      },
      "source": [
        "confusionMatrix(table(test_pred, testing$fbs))"
      ],
      "execution_count": null,
      "outputs": [
        {
          "output_type": "display_data",
          "data": {
            "text/plain": [
              "Confusion Matrix and Statistics\n",
              "\n",
              "         \n",
              "test_pred  0  1\n",
              "        0 77 13\n",
              "        1  0  0\n",
              "                                          \n",
              "               Accuracy : 0.8556          \n",
              "                 95% CI : (0.7657, 0.9208)\n",
              "    No Information Rate : 0.8556          \n",
              "    P-Value [Acc > NIR] : 0.5732676       \n",
              "                                          \n",
              "                  Kappa : 0               \n",
              "                                          \n",
              " Mcnemar's Test P-Value : 0.0008741       \n",
              "                                          \n",
              "            Sensitivity : 1.0000          \n",
              "            Specificity : 0.0000          \n",
              "         Pos Pred Value : 0.8556          \n",
              "         Neg Pred Value :    NaN          \n",
              "             Prevalence : 0.8556          \n",
              "         Detection Rate : 0.8556          \n",
              "   Detection Prevalence : 1.0000          \n",
              "      Balanced Accuracy : 0.5000          \n",
              "                                          \n",
              "       'Positive' Class : 0               \n",
              "                                          "
            ]
          },
          "metadata": {}
        }
      ]
    },
    {
      "cell_type": "markdown",
      "metadata": {
        "id": "IJ5Y5dGn0VC9"
      },
      "source": [
        "K Nearest Neighbour  - Data Wrangling\n"
      ]
    },
    {
      "cell_type": "code",
      "metadata": {
        "colab": {
          "base_uri": "https://localhost:8080/"
        },
        "id": "2v4hH5VE0gqb",
        "outputId": "878aa9bc-49c1-4c58-c64d-5526deaa77ba"
      },
      "source": [
        "# Create dummy variable\n",
        "\n",
        "dummy <- dummyVars(\"~target + sex +cp + trestbps + chol + fbs + restecg + thalach + exang + oldpeak + slope + ca + thal\", data = heart)\n",
        "\n",
        "# Create new data frame\n",
        "\n",
        "dummy <- data.frame(predict(dummy, newdata = heart))\n",
        "\n",
        "# Check our data frame structure\n",
        "\n",
        "str(dummy)"
      ],
      "execution_count": null,
      "outputs": [
        {
          "output_type": "stream",
          "name": "stdout",
          "text": [
            "'data.frame':\t303 obs. of  31 variables:\n",
            " $ target.Health    : num  0 0 0 0 0 0 0 0 0 0 ...\n",
            " $ target.Not.Health: num  1 1 1 1 1 1 1 1 1 1 ...\n",
            " $ sex.female       : num  0 0 1 0 1 0 1 0 0 0 ...\n",
            " $ sex.male         : num  1 1 0 1 0 1 0 1 1 1 ...\n",
            " $ cp.0             : num  0 0 0 0 1 1 0 0 0 0 ...\n",
            " $ cp.1             : num  0 0 1 1 0 0 1 1 0 0 ...\n",
            " $ cp.2             : num  0 1 0 0 0 0 0 0 1 1 ...\n",
            " $ cp.3             : num  1 0 0 0 0 0 0 0 0 0 ...\n",
            " $ trestbps         : num  145 130 130 120 120 140 140 120 172 150 ...\n",
            " $ chol             : num  233 250 204 236 354 192 294 263 199 168 ...\n",
            " $ fbs.False        : num  0 1 1 1 1 1 1 1 0 1 ...\n",
            " $ fbs.True         : num  1 0 0 0 0 0 0 0 1 0 ...\n",
            " $ restecg.0        : num  1 0 1 0 0 0 1 0 0 0 ...\n",
            " $ restecg.1        : num  0 1 0 1 1 1 0 1 1 1 ...\n",
            " $ restecg.2        : num  0 0 0 0 0 0 0 0 0 0 ...\n",
            " $ thalach          : num  150 187 172 178 163 148 153 173 162 174 ...\n",
            " $ exang.No         : num  1 1 1 1 0 1 1 1 1 1 ...\n",
            " $ exang.Yes        : num  0 0 0 0 1 0 0 0 0 0 ...\n",
            " $ oldpeak          : num  2.3 3.5 1.4 0.8 0.6 0.4 1.3 0 0.5 1.6 ...\n",
            " $ slope.0          : num  1 1 0 0 0 0 0 0 0 0 ...\n",
            " $ slope.1          : num  0 0 0 0 0 1 1 0 0 0 ...\n",
            " $ slope.2          : num  0 0 1 1 1 0 0 1 1 1 ...\n",
            " $ ca.0             : num  1 1 1 1 1 1 1 1 1 1 ...\n",
            " $ ca.1             : num  0 0 0 0 0 0 0 0 0 0 ...\n",
            " $ ca.2             : num  0 0 0 0 0 0 0 0 0 0 ...\n",
            " $ ca.3             : num  0 0 0 0 0 0 0 0 0 0 ...\n",
            " $ ca.4             : num  0 0 0 0 0 0 0 0 0 0 ...\n",
            " $ thal.0           : num  0 0 0 0 0 0 0 0 0 0 ...\n",
            " $ thal.1           : num  1 0 0 0 0 1 0 0 0 0 ...\n",
            " $ thal.2           : num  0 1 1 1 1 0 1 0 0 1 ...\n",
            " $ thal.3           : num  0 0 0 0 0 0 0 1 1 0 ...\n"
          ]
        }
      ]
    },
    {
      "cell_type": "code",
      "metadata": {
        "id": "T7vZ21Jc0ns4"
      },
      "source": [
        "dummy$target.Health <- NULL\n",
        "dummy$sex.female <- NULL\n",
        "dummy$fbs.False <- NULL\n",
        "dummy$exang.No <- NULL"
      ],
      "execution_count": null,
      "outputs": []
    },
    {
      "cell_type": "code",
      "metadata": {
        "colab": {
          "base_uri": "https://localhost:8080/",
          "height": 212
        },
        "id": "RrCUnaJq0sLr",
        "outputId": "682dded5-97db-4447-93ea-dd611985d06d"
      },
      "source": [
        "head(dummy, 3)"
      ],
      "execution_count": null,
      "outputs": [
        {
          "output_type": "display_data",
          "data": {
            "text/html": [
              "<table class=\"dataframe\">\n",
              "<caption>A data.frame: 3 × 27</caption>\n",
              "<thead>\n",
              "\t<tr><th></th><th scope=col>target.Not.Health</th><th scope=col>sex.male</th><th scope=col>cp.0</th><th scope=col>cp.1</th><th scope=col>cp.2</th><th scope=col>cp.3</th><th scope=col>trestbps</th><th scope=col>chol</th><th scope=col>fbs.True</th><th scope=col>restecg.0</th><th scope=col>⋯</th><th scope=col>slope.2</th><th scope=col>ca.0</th><th scope=col>ca.1</th><th scope=col>ca.2</th><th scope=col>ca.3</th><th scope=col>ca.4</th><th scope=col>thal.0</th><th scope=col>thal.1</th><th scope=col>thal.2</th><th scope=col>thal.3</th></tr>\n",
              "\t<tr><th></th><th scope=col>&lt;dbl&gt;</th><th scope=col>&lt;dbl&gt;</th><th scope=col>&lt;dbl&gt;</th><th scope=col>&lt;dbl&gt;</th><th scope=col>&lt;dbl&gt;</th><th scope=col>&lt;dbl&gt;</th><th scope=col>&lt;dbl&gt;</th><th scope=col>&lt;dbl&gt;</th><th scope=col>&lt;dbl&gt;</th><th scope=col>&lt;dbl&gt;</th><th scope=col>⋯</th><th scope=col>&lt;dbl&gt;</th><th scope=col>&lt;dbl&gt;</th><th scope=col>&lt;dbl&gt;</th><th scope=col>&lt;dbl&gt;</th><th scope=col>&lt;dbl&gt;</th><th scope=col>&lt;dbl&gt;</th><th scope=col>&lt;dbl&gt;</th><th scope=col>&lt;dbl&gt;</th><th scope=col>&lt;dbl&gt;</th><th scope=col>&lt;dbl&gt;</th></tr>\n",
              "</thead>\n",
              "<tbody>\n",
              "\t<tr><th scope=row>1</th><td>1</td><td>1</td><td>0</td><td>0</td><td>0</td><td>1</td><td>145</td><td>233</td><td>1</td><td>1</td><td>⋯</td><td>0</td><td>1</td><td>0</td><td>0</td><td>0</td><td>0</td><td>0</td><td>1</td><td>0</td><td>0</td></tr>\n",
              "\t<tr><th scope=row>2</th><td>1</td><td>1</td><td>0</td><td>0</td><td>1</td><td>0</td><td>130</td><td>250</td><td>0</td><td>0</td><td>⋯</td><td>0</td><td>1</td><td>0</td><td>0</td><td>0</td><td>0</td><td>0</td><td>0</td><td>1</td><td>0</td></tr>\n",
              "\t<tr><th scope=row>3</th><td>1</td><td>0</td><td>0</td><td>1</td><td>0</td><td>0</td><td>130</td><td>204</td><td>0</td><td>1</td><td>⋯</td><td>1</td><td>1</td><td>0</td><td>0</td><td>0</td><td>0</td><td>0</td><td>0</td><td>1</td><td>0</td></tr>\n",
              "</tbody>\n",
              "</table>\n"
            ],
            "text/markdown": "\nA data.frame: 3 × 27\n\n| <!--/--> | target.Not.Health &lt;dbl&gt; | sex.male &lt;dbl&gt; | cp.0 &lt;dbl&gt; | cp.1 &lt;dbl&gt; | cp.2 &lt;dbl&gt; | cp.3 &lt;dbl&gt; | trestbps &lt;dbl&gt; | chol &lt;dbl&gt; | fbs.True &lt;dbl&gt; | restecg.0 &lt;dbl&gt; | ⋯ ⋯ | slope.2 &lt;dbl&gt; | ca.0 &lt;dbl&gt; | ca.1 &lt;dbl&gt; | ca.2 &lt;dbl&gt; | ca.3 &lt;dbl&gt; | ca.4 &lt;dbl&gt; | thal.0 &lt;dbl&gt; | thal.1 &lt;dbl&gt; | thal.2 &lt;dbl&gt; | thal.3 &lt;dbl&gt; |\n|---|---|---|---|---|---|---|---|---|---|---|---|---|---|---|---|---|---|---|---|---|---|\n| 1 | 1 | 1 | 0 | 0 | 0 | 1 | 145 | 233 | 1 | 1 | ⋯ | 0 | 1 | 0 | 0 | 0 | 0 | 0 | 1 | 0 | 0 |\n| 2 | 1 | 1 | 0 | 0 | 1 | 0 | 130 | 250 | 0 | 0 | ⋯ | 0 | 1 | 0 | 0 | 0 | 0 | 0 | 0 | 1 | 0 |\n| 3 | 1 | 0 | 0 | 1 | 0 | 0 | 130 | 204 | 0 | 1 | ⋯ | 1 | 1 | 0 | 0 | 0 | 0 | 0 | 0 | 1 | 0 |\n\n",
            "text/latex": "A data.frame: 3 × 27\n\\begin{tabular}{r|lllllllllllllllllllll}\n  & target.Not.Health & sex.male & cp.0 & cp.1 & cp.2 & cp.3 & trestbps & chol & fbs.True & restecg.0 & ⋯ & slope.2 & ca.0 & ca.1 & ca.2 & ca.3 & ca.4 & thal.0 & thal.1 & thal.2 & thal.3\\\\\n  & <dbl> & <dbl> & <dbl> & <dbl> & <dbl> & <dbl> & <dbl> & <dbl> & <dbl> & <dbl> & ⋯ & <dbl> & <dbl> & <dbl> & <dbl> & <dbl> & <dbl> & <dbl> & <dbl> & <dbl> & <dbl>\\\\\n\\hline\n\t1 & 1 & 1 & 0 & 0 & 0 & 1 & 145 & 233 & 1 & 1 & ⋯ & 0 & 1 & 0 & 0 & 0 & 0 & 0 & 1 & 0 & 0\\\\\n\t2 & 1 & 1 & 0 & 0 & 1 & 0 & 130 & 250 & 0 & 0 & ⋯ & 0 & 1 & 0 & 0 & 0 & 0 & 0 & 0 & 1 & 0\\\\\n\t3 & 1 & 0 & 0 & 1 & 0 & 0 & 130 & 204 & 0 & 1 & ⋯ & 1 & 1 & 0 & 0 & 0 & 0 & 0 & 0 & 1 & 0\\\\\n\\end{tabular}\n",
            "text/plain": [
              "  target.Not.Health sex.male cp.0 cp.1 cp.2 cp.3 trestbps chol fbs.True\n",
              "1 1                 1        0    0    0    1    145      233  1       \n",
              "2 1                 1        0    0    1    0    130      250  0       \n",
              "3 1                 0        0    1    0    0    130      204  0       \n",
              "  restecg.0 ⋯ slope.2 ca.0 ca.1 ca.2 ca.3 ca.4 thal.0 thal.1 thal.2 thal.3\n",
              "1 1         ⋯ 0       1    0    0    0    0    0      1      0      0     \n",
              "2 0         ⋯ 0       1    0    0    0    0    0      0      1      0     \n",
              "3 1         ⋯ 1       1    0    0    0    0    0      0      1      0     "
            ]
          },
          "metadata": {}
        }
      ]
    },
    {
      "cell_type": "markdown",
      "metadata": {
        "id": "qocmaCpI0zCV"
      },
      "source": [
        "Cross Validation: K - Nearest Method"
      ]
    },
    {
      "cell_type": "code",
      "metadata": {
        "id": "V23Ll_kB02ik"
      },
      "source": [
        "set.seed(100)\n",
        "\n",
        "# Predictor\n",
        "\n",
        "train_x <- dummy[index, -1]\n",
        "test_x <- dummy[-index, -1]\n",
        "\n",
        "# Target\n",
        "\n",
        "train_y <- dummy[index, 1]\n",
        "test_y <- dummy[-index, 1]"
      ],
      "execution_count": null,
      "outputs": []
    },
    {
      "cell_type": "markdown",
      "metadata": {
        "id": "ZfzPQSM909_9"
      },
      "source": [
        "CHoose K"
      ]
    },
    {
      "cell_type": "code",
      "metadata": {
        "colab": {
          "base_uri": "https://localhost:8080/",
          "height": 34
        },
        "id": "g_w_oIIj0_bd",
        "outputId": "46cc1b14-fd1a-4416-b630-5279b6f8bdc7"
      },
      "source": [
        "sqrt(nrow(train_x))"
      ],
      "execution_count": null,
      "outputs": [
        {
          "output_type": "display_data",
          "data": {
            "text/html": [
              "14.560219778561"
            ],
            "text/markdown": "14.560219778561",
            "text/latex": "14.560219778561",
            "text/plain": [
              "[1] 14.56022"
            ]
          },
          "metadata": {}
        }
      ]
    },
    {
      "cell_type": "markdown",
      "metadata": {
        "id": "w5a8Z_xL1E60"
      },
      "source": [
        "Scaling"
      ]
    },
    {
      "cell_type": "code",
      "metadata": {
        "id": "0b2nv-1A1GFA"
      },
      "source": [
        "train_x <- scale(x = train_x)\n",
        "test_x <- scale(x = test_x, center = attr(train_x, \"scaled:center\"), scale = attr(train_x, \"scaled:scale\"))"
      ],
      "execution_count": null,
      "outputs": []
    },
    {
      "cell_type": "markdown",
      "metadata": {
        "id": "uhdXdBlp1L1C"
      },
      "source": [
        "Prediction"
      ]
    },
    {
      "cell_type": "code",
      "metadata": {
        "id": "7xJB92yb1Op6"
      },
      "source": [
        "pred_knn <- knn(train = train_x, test = test_x, cl = train_y, k = 14)"
      ],
      "execution_count": null,
      "outputs": []
    },
    {
      "cell_type": "code",
      "metadata": {
        "id": "lXhHv3Tw1UKY"
      },
      "source": [
        "pred_knn <- pred_knn %>%\n",
        "  as.data.frame() %>%\n",
        "  mutate(pred_knn = factor(pred_knn, levels = c(0,1), labels = c(\"Health\", \"Not Health\"))) %>%\n",
        "  select(pred_knn)"
      ],
      "execution_count": null,
      "outputs": []
    },
    {
      "cell_type": "code",
      "metadata": {
        "id": "NTw1yQbc1VsM"
      },
      "source": [
        "test_y <- test_y %>%\n",
        "  as.data.frame() %>%\n",
        "  mutate(target = factor(test_y, levels = c(0,1), labels = c(\"Health\", \"Not Health\"))) %>%\n",
        "  select(target)"
      ],
      "execution_count": null,
      "outputs": []
    },
    {
      "cell_type": "markdown",
      "metadata": {
        "id": "4ypynL2m1d8l"
      },
      "source": [
        "Confusion matrix of KNN prediction"
      ]
    },
    {
      "cell_type": "code",
      "metadata": {
        "colab": {
          "base_uri": "https://localhost:8080/",
          "height": 486
        },
        "id": "XgEAkJOz1id0",
        "outputId": "126c44f2-8fb2-4655-b050-8ba1aefc2989"
      },
      "source": [
        "conf_mat_knn <- confusionMatrix(pred_knn$pred_knn, reference = test_y$target, positive = \"Not Health\")\n",
        "\n",
        "conf_mat_knn"
      ],
      "execution_count": null,
      "outputs": [
        {
          "output_type": "display_data",
          "data": {
            "text/plain": [
              "Confusion Matrix and Statistics\n",
              "\n",
              "            Reference\n",
              "Prediction   Health Not Health\n",
              "  Health         29          2\n",
              "  Not Health     12         48\n",
              "                                          \n",
              "               Accuracy : 0.8462          \n",
              "                 95% CI : (0.7554, 0.9133)\n",
              "    No Information Rate : 0.5495          \n",
              "    P-Value [Acc > NIR] : 1.82e-09        \n",
              "                                          \n",
              "                  Kappa : 0.6823          \n",
              "                                          \n",
              " Mcnemar's Test P-Value : 0.01616         \n",
              "                                          \n",
              "            Sensitivity : 0.9600          \n",
              "            Specificity : 0.7073          \n",
              "         Pos Pred Value : 0.8000          \n",
              "         Neg Pred Value : 0.9355          \n",
              "             Prevalence : 0.5495          \n",
              "         Detection Rate : 0.5275          \n",
              "   Detection Prevalence : 0.6593          \n",
              "      Balanced Accuracy : 0.8337          \n",
              "                                          \n",
              "       'Positive' Class : Not Health      \n",
              "                                          "
            ]
          },
          "metadata": {}
        }
      ]
    },
    {
      "cell_type": "code",
      "metadata": {
        "id": "IX1Mzb0z2BNN",
        "outputId": "2b0a507d-916f-4e28-fad1-c2886440dc3b",
        "colab": {
          "base_uri": "https://localhost:8080/",
          "height": 130
        }
      },
      "source": [
        "recall_knn <- round(48/(48+2),3)\n",
        "specificity_knn <- round(29/(29+12),3)\n",
        "precision_knn <- round(48/(48+12),3)\n",
        "accuracy_knn <- round((48+29)/(48+29+12+2),3)\n",
        "\n",
        "matrix_knn <- cbind.data.frame(accuracy_knn, recall_knn, specificity_knn, precision_knn)\n",
        "\n",
        "matrix_knn"
      ],
      "execution_count": null,
      "outputs": [
        {
          "output_type": "display_data",
          "data": {
            "text/html": [
              "<table class=\"dataframe\">\n",
              "<caption>A data.frame: 1 × 4</caption>\n",
              "<thead>\n",
              "\t<tr><th scope=col>accuracy_knn</th><th scope=col>recall_knn</th><th scope=col>specificity_knn</th><th scope=col>precision_knn</th></tr>\n",
              "\t<tr><th scope=col>&lt;dbl&gt;</th><th scope=col>&lt;dbl&gt;</th><th scope=col>&lt;dbl&gt;</th><th scope=col>&lt;dbl&gt;</th></tr>\n",
              "</thead>\n",
              "<tbody>\n",
              "\t<tr><td>0.846</td><td>0.96</td><td>0.707</td><td>0.8</td></tr>\n",
              "</tbody>\n",
              "</table>\n"
            ],
            "text/markdown": "\nA data.frame: 1 × 4\n\n| accuracy_knn &lt;dbl&gt; | recall_knn &lt;dbl&gt; | specificity_knn &lt;dbl&gt; | precision_knn &lt;dbl&gt; |\n|---|---|---|---|\n| 0.846 | 0.96 | 0.707 | 0.8 |\n\n",
            "text/latex": "A data.frame: 1 × 4\n\\begin{tabular}{llll}\n accuracy\\_knn & recall\\_knn & specificity\\_knn & precision\\_knn\\\\\n <dbl> & <dbl> & <dbl> & <dbl>\\\\\n\\hline\n\t 0.846 & 0.96 & 0.707 & 0.8\\\\\n\\end{tabular}\n",
            "text/plain": [
              "  accuracy_knn recall_knn specificity_knn precision_knn\n",
              "1 0.846        0.96       0.707           0.8          "
            ]
          },
          "metadata": {}
        }
      ]
    }
  ]
}